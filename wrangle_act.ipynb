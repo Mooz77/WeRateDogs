{
 "cells": [
  {
   "cell_type": "code",
   "execution_count": 1,
   "metadata": {},
   "outputs": [],
   "source": [
    "import pandas as pd\n",
    "import requests\n",
    "import json\n",
    "import tweepy\n",
    "from tweepy import OAuthHandler\n",
    "from timeit import default_timer as timer\n",
    "from datetime import datetime\n",
    "import re\n",
    "import numpy as np\n",
    "import matplotlib.pyplot as plt\n",
    "import seaborn as sns\n",
    "\n",
    "%matplotlib inline\n"
   ]
  },
  {
   "cell_type": "code",
   "execution_count": 2,
   "metadata": {},
   "outputs": [],
   "source": [
    "archive_df = pd.read_csv(\"twitter-archive-enhanced.csv\")\n",
    "image_df= pd.read_csv('image-predictions.tsv', sep='\\t')\n",
    "\n"
   ]
  },
  {
   "cell_type": "code",
   "execution_count": 19,
   "metadata": {},
   "outputs": [],
   "source": [
    "# Downloading and saving the image prediction data using Requests\n",
    "url = \"https://d17h27t6h515a5.cloudfront.net/topher/2017/August/599fd2ad_image-predictions/image-predictions.tsv\"\n",
    "# Get the response object of the requests library as you have learned in previous lessons:\n",
    "response = requests.get(url)\n",
    "\n",
    "# GET the file name programmatically\n",
    "file_name = url.split('/')[-1]\n",
    "\n"
   ]
  },
  {
   "cell_type": "code",
   "execution_count": null,
   "metadata": {},
   "outputs": [],
   "source": [
    "# Write the file with the context manager with:\n",
    "with open(file_name, 'wb') as file:\n",
    "     file.write(response.content)"
   ]
  },
  {
   "cell_type": "code",
   "execution_count": 3,
   "metadata": {},
   "outputs": [],
   "source": [
    "list_df = []\n",
    "\n",
    "with open('tweet-json.txt', 'r') as file:\n",
    "     for line in file:\n",
    "        tweet = json.loads(line)\n",
    "        tweet_id = tweet[\"id\"]\n",
    "        retweet_count= tweet[\"retweet_count\"]\n",
    "        fav_count= tweet[\"favorite_count\"]\n",
    "        user_count = tweet['user']['followers_count']\n",
    "\n",
    "        list_df.append({\"tweet_id\": tweet_id,\"retweet_count\": retweet_count,\"favourites_count\":fav_count,\"user_count\":user_count})\n",
    "\n",
    "    \n",
    "    "
   ]
  },
  {
   "cell_type": "code",
   "execution_count": 4,
   "metadata": {},
   "outputs": [],
   "source": [
    "api_df = pd.DataFrame(list_df, columns = ['tweet_id', 'retweet_count',\"favourites_count\",\"user_count\"])\n",
    "\n"
   ]
  },
  {
   "cell_type": "code",
   "execution_count": 108,
   "metadata": {},
   "outputs": [],
   "source": [
    "# Query Twitter API for each tweet in the Twitter archive and save JSON in a text file\n",
    "# These are hidden to comply with Twitter's API terms and conditions\n",
    "consumer_key = 'HIDDEN'\n",
    "consumer_secret = 'HIDDEN'\n",
    "access_token = 'HIDDEN'\n",
    "access_secret = 'HIDDEN'\n",
    "\n",
    "auth = OAuthHandler(consumer_key, consumer_secret)\n",
    "auth.set_access_token(access_token, access_secret)\n",
    "\n",
    "api = tweepy.API(auth, wait_on_rate_limit=True)"
   ]
  },
  {
   "cell_type": "code",
   "execution_count": null,
   "metadata": {},
   "outputs": [],
   "source": [
    "# tweet_ids = df_1.tweet_id.values\n",
    "len(tweet_ids)\n",
    "\n",
    "# Query Twitter's API for JSON data for each tweet ID in the Twitter archive\n",
    "count = 0\n",
    "fails_dict = {}\n",
    "start = timer()\n",
    "# Save each tweet's returned JSON as a new line in a .txt file\n",
    "with open('tweet_json.txt', 'w') as outfile:\n",
    "    # This loop will likely take 20-30 minutes to run because of Twitter's rate limit\n",
    "    for tweet_id in tweet_ids:\n",
    "        count += 1\n",
    "        print(str(count) + \": \" + str(tweet_id))\n",
    "        try:\n",
    "            tweet = api.get_status(tweet_id, tweet_mode='extended')\n",
    "            print(\"Success\")\n",
    "            json.dump(tweet._json, outfile)\n",
    "            outfile.write('\\n')\n",
    "        except tweepy.TweepError as e:\n",
    "            print(\"Fail\")\n",
    "            fails_dict[tweet_id] = e\n",
    "            pass\n",
    "end = timer()\n",
    "print(end - start)\n",
    "print(fails_dict)\n"
   ]
  },
  {
   "cell_type": "code",
   "execution_count": 5,
   "metadata": {},
   "outputs": [
    {
     "data": {
      "text/html": [
       "<div>\n",
       "<style scoped>\n",
       "    .dataframe tbody tr th:only-of-type {\n",
       "        vertical-align: middle;\n",
       "    }\n",
       "\n",
       "    .dataframe tbody tr th {\n",
       "        vertical-align: top;\n",
       "    }\n",
       "\n",
       "    .dataframe thead th {\n",
       "        text-align: right;\n",
       "    }\n",
       "</style>\n",
       "<table border=\"1\" class=\"dataframe\">\n",
       "  <thead>\n",
       "    <tr style=\"text-align: right;\">\n",
       "      <th></th>\n",
       "      <th>tweet_id</th>\n",
       "      <th>in_reply_to_status_id</th>\n",
       "      <th>in_reply_to_user_id</th>\n",
       "      <th>timestamp</th>\n",
       "      <th>source</th>\n",
       "      <th>text</th>\n",
       "      <th>retweeted_status_id</th>\n",
       "      <th>retweeted_status_user_id</th>\n",
       "      <th>retweeted_status_timestamp</th>\n",
       "      <th>expanded_urls</th>\n",
       "      <th>rating_numerator</th>\n",
       "      <th>rating_denominator</th>\n",
       "      <th>name</th>\n",
       "      <th>doggo</th>\n",
       "      <th>floofer</th>\n",
       "      <th>pupper</th>\n",
       "      <th>puppo</th>\n",
       "    </tr>\n",
       "  </thead>\n",
       "  <tbody>\n",
       "    <tr>\n",
       "      <th>1951</th>\n",
       "      <td>673686845050527744</td>\n",
       "      <td>NaN</td>\n",
       "      <td>NaN</td>\n",
       "      <td>2015-12-07 02:13:55 +0000</td>\n",
       "      <td>&lt;a href=\"http://twitter.com/download/iphone\" r...</td>\n",
       "      <td>This is George. He's upset that the 4th of Jul...</td>\n",
       "      <td>NaN</td>\n",
       "      <td>NaN</td>\n",
       "      <td>NaN</td>\n",
       "      <td>https://twitter.com/dog_rates/status/673686845...</td>\n",
       "      <td>11</td>\n",
       "      <td>10</td>\n",
       "      <td>George</td>\n",
       "      <td>None</td>\n",
       "      <td>None</td>\n",
       "      <td>None</td>\n",
       "      <td>None</td>\n",
       "    </tr>\n",
       "    <tr>\n",
       "      <th>1084</th>\n",
       "      <td>738402415918125056</td>\n",
       "      <td>NaN</td>\n",
       "      <td>NaN</td>\n",
       "      <td>2016-06-02 16:10:29 +0000</td>\n",
       "      <td>&lt;a href=\"http://twitter.com/download/iphone\" r...</td>\n",
       "      <td>\"Don't talk to me or my son ever again\" ...10/...</td>\n",
       "      <td>NaN</td>\n",
       "      <td>NaN</td>\n",
       "      <td>NaN</td>\n",
       "      <td>https://twitter.com/dog_rates/status/738402415...</td>\n",
       "      <td>10</td>\n",
       "      <td>10</td>\n",
       "      <td>None</td>\n",
       "      <td>None</td>\n",
       "      <td>None</td>\n",
       "      <td>None</td>\n",
       "      <td>None</td>\n",
       "    </tr>\n",
       "    <tr>\n",
       "      <th>717</th>\n",
       "      <td>783695101801398276</td>\n",
       "      <td>NaN</td>\n",
       "      <td>NaN</td>\n",
       "      <td>2016-10-05 15:47:27 +0000</td>\n",
       "      <td>&lt;a href=\"http://twitter.com/download/iphone\" r...</td>\n",
       "      <td>This is Loomis. He's the leader of the Kenneth...</td>\n",
       "      <td>NaN</td>\n",
       "      <td>NaN</td>\n",
       "      <td>NaN</td>\n",
       "      <td>https://twitter.com/dog_rates/status/783695101...</td>\n",
       "      <td>12</td>\n",
       "      <td>10</td>\n",
       "      <td>Loomis</td>\n",
       "      <td>None</td>\n",
       "      <td>None</td>\n",
       "      <td>None</td>\n",
       "      <td>None</td>\n",
       "    </tr>\n",
       "    <tr>\n",
       "      <th>1353</th>\n",
       "      <td>703769065844768768</td>\n",
       "      <td>NaN</td>\n",
       "      <td>NaN</td>\n",
       "      <td>2016-02-28 02:29:55 +0000</td>\n",
       "      <td>&lt;a href=\"http://twitter.com/download/iphone\" r...</td>\n",
       "      <td>When you're trying to watch your favorite tv s...</td>\n",
       "      <td>NaN</td>\n",
       "      <td>NaN</td>\n",
       "      <td>NaN</td>\n",
       "      <td>https://twitter.com/dog_rates/status/703769065...</td>\n",
       "      <td>10</td>\n",
       "      <td>10</td>\n",
       "      <td>None</td>\n",
       "      <td>None</td>\n",
       "      <td>None</td>\n",
       "      <td>None</td>\n",
       "      <td>None</td>\n",
       "    </tr>\n",
       "    <tr>\n",
       "      <th>2286</th>\n",
       "      <td>667182792070062081</td>\n",
       "      <td>NaN</td>\n",
       "      <td>NaN</td>\n",
       "      <td>2015-11-19 03:29:07 +0000</td>\n",
       "      <td>&lt;a href=\"http://twitter.com/download/iphone\" r...</td>\n",
       "      <td>This is Timison. He just told an awful joke bu...</td>\n",
       "      <td>NaN</td>\n",
       "      <td>NaN</td>\n",
       "      <td>NaN</td>\n",
       "      <td>https://twitter.com/dog_rates/status/667182792...</td>\n",
       "      <td>10</td>\n",
       "      <td>10</td>\n",
       "      <td>Timison</td>\n",
       "      <td>None</td>\n",
       "      <td>None</td>\n",
       "      <td>None</td>\n",
       "      <td>None</td>\n",
       "    </tr>\n",
       "  </tbody>\n",
       "</table>\n",
       "</div>"
      ],
      "text/plain": [
       "                tweet_id  in_reply_to_status_id  in_reply_to_user_id  \\\n",
       "1951  673686845050527744                    NaN                  NaN   \n",
       "1084  738402415918125056                    NaN                  NaN   \n",
       "717   783695101801398276                    NaN                  NaN   \n",
       "1353  703769065844768768                    NaN                  NaN   \n",
       "2286  667182792070062081                    NaN                  NaN   \n",
       "\n",
       "                      timestamp  \\\n",
       "1951  2015-12-07 02:13:55 +0000   \n",
       "1084  2016-06-02 16:10:29 +0000   \n",
       "717   2016-10-05 15:47:27 +0000   \n",
       "1353  2016-02-28 02:29:55 +0000   \n",
       "2286  2015-11-19 03:29:07 +0000   \n",
       "\n",
       "                                                 source  \\\n",
       "1951  <a href=\"http://twitter.com/download/iphone\" r...   \n",
       "1084  <a href=\"http://twitter.com/download/iphone\" r...   \n",
       "717   <a href=\"http://twitter.com/download/iphone\" r...   \n",
       "1353  <a href=\"http://twitter.com/download/iphone\" r...   \n",
       "2286  <a href=\"http://twitter.com/download/iphone\" r...   \n",
       "\n",
       "                                                   text  retweeted_status_id  \\\n",
       "1951  This is George. He's upset that the 4th of Jul...                  NaN   \n",
       "1084  \"Don't talk to me or my son ever again\" ...10/...                  NaN   \n",
       "717   This is Loomis. He's the leader of the Kenneth...                  NaN   \n",
       "1353  When you're trying to watch your favorite tv s...                  NaN   \n",
       "2286  This is Timison. He just told an awful joke bu...                  NaN   \n",
       "\n",
       "      retweeted_status_user_id retweeted_status_timestamp  \\\n",
       "1951                       NaN                        NaN   \n",
       "1084                       NaN                        NaN   \n",
       "717                        NaN                        NaN   \n",
       "1353                       NaN                        NaN   \n",
       "2286                       NaN                        NaN   \n",
       "\n",
       "                                          expanded_urls  rating_numerator  \\\n",
       "1951  https://twitter.com/dog_rates/status/673686845...                11   \n",
       "1084  https://twitter.com/dog_rates/status/738402415...                10   \n",
       "717   https://twitter.com/dog_rates/status/783695101...                12   \n",
       "1353  https://twitter.com/dog_rates/status/703769065...                10   \n",
       "2286  https://twitter.com/dog_rates/status/667182792...                10   \n",
       "\n",
       "      rating_denominator     name doggo floofer pupper puppo  \n",
       "1951                  10   George  None    None   None  None  \n",
       "1084                  10     None  None    None   None  None  \n",
       "717                   10   Loomis  None    None   None  None  \n",
       "1353                  10     None  None    None   None  None  \n",
       "2286                  10  Timison  None    None   None  None  "
      ]
     },
     "execution_count": 5,
     "metadata": {},
     "output_type": "execute_result"
    }
   ],
   "source": [
    "archive_df.sample(5)"
   ]
  },
  {
   "cell_type": "code",
   "execution_count": 10,
   "metadata": {},
   "outputs": [
    {
     "name": "stdout",
     "output_type": "stream",
     "text": [
      "<class 'pandas.core.frame.DataFrame'>\n",
      "RangeIndex: 2356 entries, 0 to 2355\n",
      "Data columns (total 17 columns):\n",
      "tweet_id                      2356 non-null int64\n",
      "in_reply_to_status_id         78 non-null float64\n",
      "in_reply_to_user_id           78 non-null float64\n",
      "timestamp                     2356 non-null object\n",
      "source                        2356 non-null object\n",
      "text                          2356 non-null object\n",
      "retweeted_status_id           181 non-null float64\n",
      "retweeted_status_user_id      181 non-null float64\n",
      "retweeted_status_timestamp    181 non-null object\n",
      "expanded_urls                 2297 non-null object\n",
      "rating_numerator              2356 non-null int64\n",
      "rating_denominator            2356 non-null int64\n",
      "name                          2356 non-null object\n",
      "doggo                         2356 non-null object\n",
      "floofer                       2356 non-null object\n",
      "pupper                        2356 non-null object\n",
      "puppo                         2356 non-null object\n",
      "dtypes: float64(4), int64(3), object(10)\n",
      "memory usage: 313.0+ KB\n"
     ]
    }
   ],
   "source": [
    "archive_df.info()"
   ]
  },
  {
   "cell_type": "code",
   "execution_count": 52,
   "metadata": {},
   "outputs": [
    {
     "data": {
      "text/plain": [
       "None         745\n",
       "a             55\n",
       "Charlie       12\n",
       "Oliver        11\n",
       "Lucy          11\n",
       "Cooper        11\n",
       "Penny         10\n",
       "Lola          10\n",
       "Tucker        10\n",
       "Bo             9\n",
       "Winston        9\n",
       "the            8\n",
       "Sadie          8\n",
       "an             7\n",
       "Toby           7\n",
       "Bailey         7\n",
       "Buddy          7\n",
       "Daisy          7\n",
       "Rusty          6\n",
       "Scout          6\n",
       "Jax            6\n",
       "Bella          6\n",
       "Milo           6\n",
       "Leo            6\n",
       "Dave           6\n",
       "Stanley        6\n",
       "Koda           6\n",
       "Oscar          6\n",
       "Jack           6\n",
       "George         5\n",
       "            ... \n",
       "Clarkus        1\n",
       "Rupert         1\n",
       "Bones          1\n",
       "Jessifer       1\n",
       "Emma           1\n",
       "Daniel         1\n",
       "Buckley        1\n",
       "Rinna          1\n",
       "Cupid          1\n",
       "Augie          1\n",
       "Odin           1\n",
       "Danny          1\n",
       "Divine         1\n",
       "Kara           1\n",
       "Cheryl         1\n",
       "Kathmandu      1\n",
       "Cora           1\n",
       "Julius         1\n",
       "Cermet         1\n",
       "Vixen          1\n",
       "Jett           1\n",
       "Mason          1\n",
       "Farfle         1\n",
       "Bilbo          1\n",
       "Linus          1\n",
       "Brooks         1\n",
       "Pete           1\n",
       "Bobbay         1\n",
       "Doobert        1\n",
       "Rose           1\n",
       "Name: name, Length: 957, dtype: int64"
      ]
     },
     "execution_count": 52,
     "metadata": {},
     "output_type": "execute_result"
    }
   ],
   "source": [
    "archive_df.name.value_counts()"
   ]
  },
  {
   "cell_type": "markdown",
   "metadata": {},
   "source": [
    "# Key Points\n",
    "Key points to keep in mind when data wrangling for this project:\n",
    "\n",
    "You only want original ratings (no retweets) that have images. Though there are 5000+ tweets in the dataset, not all are dog ratings and some are retweets.\n",
    "\n",
    "Cleaning includes merging individual pieces of data according to the rules of tidy data.\n"
   ]
  },
  {
   "cell_type": "markdown",
   "metadata": {},
   "source": [
    "-i should remove retweet cloumns and this rows\n",
    "- remove tweets that haven't images"
   ]
  },
  {
   "cell_type": "markdown",
   "metadata": {},
   "source": [
    "# Assess: \n",
    "# quality Issue: \n",
    " \n",
    "- remove notnull in retweeted_status_id / in_reply_to_status_id\n",
    "\n",
    "- (remove columns from archive_df: in_reply_to_status_id,in_reply_to_user_id,retweeted_status_id,retweeted_status_user_id,retweeted_status_timestamp)\n",
    "- fix the “None” string issue in the those entries by replacing it with empty string \"\"\n",
    "\n",
    "\n",
    "- convert timestamp to datetime\n",
    "\n",
    "\n",
    "- classfication of dog to be readable by seprate it with \"-\"\n",
    "- \"\" values with Nan in dog_breed\n",
    "- filter archive_df_clean\n",
    "- filter api_df_clean\n",
    "- filter image_df_clean\n",
    "- in archive_df_clean , image_df_clean , api_df_clean reset index\n",
    "-   type float and also it should be correctly extracted (rating_numerator) in archive_df_clean\n",
    "-  extract source in archive_df_clean\n",
    "\n",
    "# Tidiness Issue:\n",
    "- classfication of dog: doggo,floofer,pupper,puppo in one column(Column headers are values, not variable names.)\n",
    "-  tidiness issue Column headers are values, not variable names prediction_1 ,confidence_1,breed_1\tprediction_2,\tconfidence_2,\tbreed_2\tprediction_3,\tconfidence_3,\tbreed_3\n",
    "\n",
    "- archive_df_clean, api_df_clean in one table to solve tidiness issue A single observational unit is stored in multiple tables.\n"
   ]
  },
  {
   "cell_type": "markdown",
   "metadata": {},
   "source": [
    "tidiness issue: classfication of dog: doggo,floofer,pupper,puppo \n",
    "\n",
    "        "
   ]
  },
  {
   "cell_type": "code",
   "execution_count": 6,
   "metadata": {},
   "outputs": [],
   "source": [
    "archive_df_clean = archive_df.copy()"
   ]
  },
  {
   "cell_type": "code",
   "execution_count": 7,
   "metadata": {},
   "outputs": [],
   "source": [
    "api_df_clean = api_df.copy()"
   ]
  },
  {
   "cell_type": "code",
   "execution_count": 8,
   "metadata": {},
   "outputs": [],
   "source": [
    "image_df_clean = image_df.copy()"
   ]
  },
  {
   "cell_type": "markdown",
   "metadata": {},
   "source": [
    "# Clean"
   ]
  },
  {
   "cell_type": "markdown",
   "metadata": {},
   "source": [
    "# Define"
   ]
  },
  {
   "cell_type": "markdown",
   "metadata": {},
   "source": [
    "Using drop to remove notnull value from retweeted_status_id , in_reply_to_status_id\n"
   ]
  },
  {
   "cell_type": "markdown",
   "metadata": {},
   "source": [
    "# Code\n"
   ]
  },
  {
   "cell_type": "code",
   "execution_count": 9,
   "metadata": {},
   "outputs": [],
   "source": [
    "archive_df_clean.drop(archive_df_clean[archive_df_clean['retweeted_status_id'] .notnull()].index, inplace = True) \n",
    "\n"
   ]
  },
  {
   "cell_type": "code",
   "execution_count": 10,
   "metadata": {},
   "outputs": [],
   "source": [
    "archive_df_clean.drop(archive_df_clean[archive_df_clean['in_reply_to_status_id'] .notnull()].index, inplace = True) \n",
    "\n"
   ]
  },
  {
   "cell_type": "code",
   "execution_count": 11,
   "metadata": {},
   "outputs": [],
   "source": [
    "archive_df_clean = archive_df_clean.reset_index(drop=True)\n",
    "\n"
   ]
  },
  {
   "cell_type": "markdown",
   "metadata": {},
   "source": [
    "# Test"
   ]
  },
  {
   "cell_type": "code",
   "execution_count": 15,
   "metadata": {},
   "outputs": [
    {
     "name": "stdout",
     "output_type": "stream",
     "text": [
      "<class 'pandas.core.frame.DataFrame'>\n",
      "Int64Index: 2097 entries, 0 to 2355\n",
      "Data columns (total 17 columns):\n",
      "tweet_id                      2097 non-null int64\n",
      "in_reply_to_status_id         0 non-null float64\n",
      "in_reply_to_user_id           0 non-null float64\n",
      "timestamp                     2097 non-null object\n",
      "source                        2097 non-null object\n",
      "text                          2097 non-null object\n",
      "retweeted_status_id           0 non-null float64\n",
      "retweeted_status_user_id      0 non-null float64\n",
      "retweeted_status_timestamp    0 non-null object\n",
      "expanded_urls                 2094 non-null object\n",
      "rating_numerator              2097 non-null int64\n",
      "rating_denominator            2097 non-null int64\n",
      "name                          2097 non-null object\n",
      "doggo                         2097 non-null object\n",
      "floofer                       2097 non-null object\n",
      "pupper                        2097 non-null object\n",
      "puppo                         2097 non-null object\n",
      "dtypes: float64(4), int64(3), object(10)\n",
      "memory usage: 294.9+ KB\n"
     ]
    }
   ],
   "source": [
    "archive_df_clean.info()"
   ]
  },
  {
   "cell_type": "markdown",
   "metadata": {},
   "source": [
    "# Define:\n",
    "using Drop to remove :\n",
    "in_reply_to_status_id,in_reply_to_user_id,retweeted_status_id,retweeted_status_user_id,retweeted_status_timestamp)"
   ]
  },
  {
   "cell_type": "markdown",
   "metadata": {},
   "source": [
    "# Code:"
   ]
  },
  {
   "cell_type": "code",
   "execution_count": 12,
   "metadata": {},
   "outputs": [],
   "source": [
    "archive_df_clean = archive_df_clean.drop([\"in_reply_to_status_id\",\"in_reply_to_user_id\",\"retweeted_status_id\",\"retweeted_status_user_id\",\"retweeted_status_timestamp\"], axis = 1)"
   ]
  },
  {
   "cell_type": "markdown",
   "metadata": {},
   "source": [
    "# Test:"
   ]
  },
  {
   "cell_type": "code",
   "execution_count": 17,
   "metadata": {},
   "outputs": [
    {
     "name": "stdout",
     "output_type": "stream",
     "text": [
      "<class 'pandas.core.frame.DataFrame'>\n",
      "Int64Index: 2097 entries, 0 to 2355\n",
      "Data columns (total 12 columns):\n",
      "tweet_id              2097 non-null int64\n",
      "timestamp             2097 non-null object\n",
      "source                2097 non-null object\n",
      "text                  2097 non-null object\n",
      "expanded_urls         2094 non-null object\n",
      "rating_numerator      2097 non-null int64\n",
      "rating_denominator    2097 non-null int64\n",
      "name                  2097 non-null object\n",
      "doggo                 2097 non-null object\n",
      "floofer               2097 non-null object\n",
      "pupper                2097 non-null object\n",
      "puppo                 2097 non-null object\n",
      "dtypes: int64(3), object(9)\n",
      "memory usage: 213.0+ KB\n"
     ]
    }
   ],
   "source": [
    "archive_df_clean.info()"
   ]
  },
  {
   "cell_type": "markdown",
   "metadata": {},
   "source": [
    "# Define:"
   ]
  },
  {
   "cell_type": "markdown",
   "metadata": {},
   "source": [
    "Useing to_datetime converted into Date Time object from a string object."
   ]
  },
  {
   "cell_type": "markdown",
   "metadata": {},
   "source": [
    "# Code:"
   ]
  },
  {
   "cell_type": "code",
   "execution_count": 13,
   "metadata": {},
   "outputs": [],
   "source": [
    "archive_df_clean[\"timestamp\"] = pd.to_datetime(archive_df_clean[\"timestamp\"]) "
   ]
  },
  {
   "cell_type": "markdown",
   "metadata": {},
   "source": [
    "# Test:"
   ]
  },
  {
   "cell_type": "code",
   "execution_count": 19,
   "metadata": {},
   "outputs": [
    {
     "data": {
      "text/plain": [
       "1958   2015-12-06 19:13:01\n",
       "Name: timestamp, dtype: datetime64[ns]"
      ]
     },
     "execution_count": 19,
     "metadata": {},
     "output_type": "execute_result"
    }
   ],
   "source": [
    "archive_df_clean[\"timestamp\"].sample()"
   ]
  },
  {
   "cell_type": "code",
   "execution_count": 20,
   "metadata": {},
   "outputs": [
    {
     "name": "stdout",
     "output_type": "stream",
     "text": [
      "<class 'pandas.core.frame.DataFrame'>\n",
      "Int64Index: 2097 entries, 0 to 2355\n",
      "Data columns (total 12 columns):\n",
      "tweet_id              2097 non-null int64\n",
      "timestamp             2097 non-null datetime64[ns]\n",
      "source                2097 non-null object\n",
      "text                  2097 non-null object\n",
      "expanded_urls         2094 non-null object\n",
      "rating_numerator      2097 non-null int64\n",
      "rating_denominator    2097 non-null int64\n",
      "name                  2097 non-null object\n",
      "doggo                 2097 non-null object\n",
      "floofer               2097 non-null object\n",
      "pupper                2097 non-null object\n",
      "puppo                 2097 non-null object\n",
      "dtypes: datetime64[ns](1), int64(3), object(8)\n",
      "memory usage: 213.0+ KB\n"
     ]
    }
   ],
   "source": [
    "archive_df_clean.info()"
   ]
  },
  {
   "cell_type": "code",
   "execution_count": 22,
   "metadata": {},
   "outputs": [
    {
     "data": {
      "text/html": [
       "<div>\n",
       "<style scoped>\n",
       "    .dataframe tbody tr th:only-of-type {\n",
       "        vertical-align: middle;\n",
       "    }\n",
       "\n",
       "    .dataframe tbody tr th {\n",
       "        vertical-align: top;\n",
       "    }\n",
       "\n",
       "    .dataframe thead th {\n",
       "        text-align: right;\n",
       "    }\n",
       "</style>\n",
       "<table border=\"1\" class=\"dataframe\">\n",
       "  <thead>\n",
       "    <tr style=\"text-align: right;\">\n",
       "      <th></th>\n",
       "      <th>tweet_id</th>\n",
       "      <th>timestamp</th>\n",
       "      <th>source</th>\n",
       "      <th>text</th>\n",
       "      <th>expanded_urls</th>\n",
       "      <th>rating_numerator</th>\n",
       "      <th>rating_denominator</th>\n",
       "      <th>name</th>\n",
       "      <th>doggo</th>\n",
       "      <th>floofer</th>\n",
       "      <th>pupper</th>\n",
       "      <th>puppo</th>\n",
       "    </tr>\n",
       "  </thead>\n",
       "  <tbody>\n",
       "    <tr>\n",
       "      <th>514</th>\n",
       "      <td>789314372632018944</td>\n",
       "      <td>2016-10-21 03:56:25</td>\n",
       "      <td>&lt;a href=\"http://twitter.com/download/iphone\" r...</td>\n",
       "      <td>HE WAS JUST A LIL SLEEPY FROM BEING SUCH A GOO...</td>\n",
       "      <td>https://twitter.com/sebscat/status/78881832853...</td>\n",
       "      <td>13</td>\n",
       "      <td>10</td>\n",
       "      <td>None</td>\n",
       "      <td>None</td>\n",
       "      <td>None</td>\n",
       "      <td>None</td>\n",
       "      <td>None</td>\n",
       "    </tr>\n",
       "    <tr>\n",
       "      <th>1602</th>\n",
       "      <td>675853064436391936</td>\n",
       "      <td>2015-12-13 01:41:41</td>\n",
       "      <td>&lt;a href=\"http://twitter.com/download/iphone\" r...</td>\n",
       "      <td>Here we have an entire platoon of puppers. Tot...</td>\n",
       "      <td>https://twitter.com/dog_rates/status/675853064...</td>\n",
       "      <td>88</td>\n",
       "      <td>80</td>\n",
       "      <td>None</td>\n",
       "      <td>None</td>\n",
       "      <td>None</td>\n",
       "      <td>None</td>\n",
       "      <td>None</td>\n",
       "    </tr>\n",
       "    <tr>\n",
       "      <th>794</th>\n",
       "      <td>747844099428986880</td>\n",
       "      <td>2016-06-28 17:28:22</td>\n",
       "      <td>&lt;a href=\"http://twitter.com/download/iphone\" r...</td>\n",
       "      <td>This is Huxley. He's pumped for #BarkWeek. Eve...</td>\n",
       "      <td>https://twitter.com/dog_rates/status/747844099...</td>\n",
       "      <td>11</td>\n",
       "      <td>10</td>\n",
       "      <td>Huxley</td>\n",
       "      <td>None</td>\n",
       "      <td>None</td>\n",
       "      <td>None</td>\n",
       "      <td>None</td>\n",
       "    </tr>\n",
       "    <tr>\n",
       "      <th>907</th>\n",
       "      <td>730427201120833536</td>\n",
       "      <td>2016-05-11 15:59:50</td>\n",
       "      <td>&lt;a href=\"http://twitter.com/download/iphone\" r...</td>\n",
       "      <td>This is Crystal. She's flawless. Really wants ...</td>\n",
       "      <td>https://twitter.com/dog_rates/status/730427201...</td>\n",
       "      <td>11</td>\n",
       "      <td>10</td>\n",
       "      <td>Crystal</td>\n",
       "      <td>None</td>\n",
       "      <td>None</td>\n",
       "      <td>None</td>\n",
       "      <td>None</td>\n",
       "    </tr>\n",
       "    <tr>\n",
       "      <th>1964</th>\n",
       "      <td>668484198282485761</td>\n",
       "      <td>2015-11-22 17:40:27</td>\n",
       "      <td>&lt;a href=\"http://twitter.com/download/iphone\" r...</td>\n",
       "      <td>Good teamwork between these dogs. One is on lo...</td>\n",
       "      <td>https://twitter.com/dog_rates/status/668484198...</td>\n",
       "      <td>9</td>\n",
       "      <td>10</td>\n",
       "      <td>None</td>\n",
       "      <td>None</td>\n",
       "      <td>None</td>\n",
       "      <td>None</td>\n",
       "      <td>None</td>\n",
       "    </tr>\n",
       "  </tbody>\n",
       "</table>\n",
       "</div>"
      ],
      "text/plain": [
       "                tweet_id           timestamp  \\\n",
       "514   789314372632018944 2016-10-21 03:56:25   \n",
       "1602  675853064436391936 2015-12-13 01:41:41   \n",
       "794   747844099428986880 2016-06-28 17:28:22   \n",
       "907   730427201120833536 2016-05-11 15:59:50   \n",
       "1964  668484198282485761 2015-11-22 17:40:27   \n",
       "\n",
       "                                                 source  \\\n",
       "514   <a href=\"http://twitter.com/download/iphone\" r...   \n",
       "1602  <a href=\"http://twitter.com/download/iphone\" r...   \n",
       "794   <a href=\"http://twitter.com/download/iphone\" r...   \n",
       "907   <a href=\"http://twitter.com/download/iphone\" r...   \n",
       "1964  <a href=\"http://twitter.com/download/iphone\" r...   \n",
       "\n",
       "                                                   text  \\\n",
       "514   HE WAS JUST A LIL SLEEPY FROM BEING SUCH A GOO...   \n",
       "1602  Here we have an entire platoon of puppers. Tot...   \n",
       "794   This is Huxley. He's pumped for #BarkWeek. Eve...   \n",
       "907   This is Crystal. She's flawless. Really wants ...   \n",
       "1964  Good teamwork between these dogs. One is on lo...   \n",
       "\n",
       "                                          expanded_urls  rating_numerator  \\\n",
       "514   https://twitter.com/sebscat/status/78881832853...                13   \n",
       "1602  https://twitter.com/dog_rates/status/675853064...                88   \n",
       "794   https://twitter.com/dog_rates/status/747844099...                11   \n",
       "907   https://twitter.com/dog_rates/status/730427201...                11   \n",
       "1964  https://twitter.com/dog_rates/status/668484198...                 9   \n",
       "\n",
       "      rating_denominator     name doggo floofer pupper puppo  \n",
       "514                   10     None  None    None   None  None  \n",
       "1602                  80     None  None    None   None  None  \n",
       "794                   10   Huxley  None    None   None  None  \n",
       "907                   10  Crystal  None    None   None  None  \n",
       "1964                  10     None  None    None   None  None  "
      ]
     },
     "execution_count": 22,
     "metadata": {},
     "output_type": "execute_result"
    }
   ],
   "source": [
    "archive_df_clean.sample(5)"
   ]
  },
  {
   "cell_type": "code",
   "execution_count": 21,
   "metadata": {},
   "outputs": [
    {
     "data": {
      "text/plain": [
       "doggo       83\n",
       "floofer     10\n",
       "pupper     230\n",
       "puppo       24\n",
       "dtype: int64"
      ]
     },
     "execution_count": 21,
     "metadata": {},
     "output_type": "execute_result"
    }
   ],
   "source": [
    "(archive_df_clean.loc[:, 'doggo':\"puppo\"] != 'None').sum()\n"
   ]
  },
  {
   "cell_type": "code",
   "execution_count": 24,
   "metadata": {},
   "outputs": [],
   "source": [
    "nonunique_stage = archive_df_clean[(archive_df_clean['doggo'] != 'None') & (archive_df_clean['pupper'] != 'None')]\n"
   ]
  },
  {
   "cell_type": "code",
   "execution_count": 25,
   "metadata": {},
   "outputs": [
    {
     "data": {
      "text/html": [
       "<div>\n",
       "<style scoped>\n",
       "    .dataframe tbody tr th:only-of-type {\n",
       "        vertical-align: middle;\n",
       "    }\n",
       "\n",
       "    .dataframe tbody tr th {\n",
       "        vertical-align: top;\n",
       "    }\n",
       "\n",
       "    .dataframe thead th {\n",
       "        text-align: right;\n",
       "    }\n",
       "</style>\n",
       "<table border=\"1\" class=\"dataframe\">\n",
       "  <thead>\n",
       "    <tr style=\"text-align: right;\">\n",
       "      <th></th>\n",
       "      <th>doggo</th>\n",
       "      <th>floofer</th>\n",
       "      <th>pupper</th>\n",
       "      <th>puppo</th>\n",
       "    </tr>\n",
       "  </thead>\n",
       "  <tbody>\n",
       "    <tr>\n",
       "      <th>358</th>\n",
       "      <td>doggo</td>\n",
       "      <td>None</td>\n",
       "      <td>pupper</td>\n",
       "      <td>None</td>\n",
       "    </tr>\n",
       "    <tr>\n",
       "      <th>416</th>\n",
       "      <td>doggo</td>\n",
       "      <td>None</td>\n",
       "      <td>pupper</td>\n",
       "      <td>None</td>\n",
       "    </tr>\n",
       "    <tr>\n",
       "      <th>446</th>\n",
       "      <td>doggo</td>\n",
       "      <td>None</td>\n",
       "      <td>pupper</td>\n",
       "      <td>None</td>\n",
       "    </tr>\n",
       "    <tr>\n",
       "      <th>536</th>\n",
       "      <td>doggo</td>\n",
       "      <td>None</td>\n",
       "      <td>pupper</td>\n",
       "      <td>None</td>\n",
       "    </tr>\n",
       "    <tr>\n",
       "      <th>562</th>\n",
       "      <td>doggo</td>\n",
       "      <td>None</td>\n",
       "      <td>pupper</td>\n",
       "      <td>None</td>\n",
       "    </tr>\n",
       "  </tbody>\n",
       "</table>\n",
       "</div>"
      ],
      "text/plain": [
       "     doggo floofer  pupper puppo\n",
       "358  doggo    None  pupper  None\n",
       "416  doggo    None  pupper  None\n",
       "446  doggo    None  pupper  None\n",
       "536  doggo    None  pupper  None\n",
       "562  doggo    None  pupper  None"
      ]
     },
     "execution_count": 25,
     "metadata": {},
     "output_type": "execute_result"
    }
   ],
   "source": [
    "nonunique_stage.iloc[:, -4:].head()\n"
   ]
  },
  {
   "cell_type": "markdown",
   "metadata": {},
   "source": [
    "# Define"
   ]
  },
  {
   "cell_type": "markdown",
   "metadata": {},
   "source": [
    "Using replace func to fix the “None” string issue in the those entries by replacing it with empty string \"\". "
   ]
  },
  {
   "cell_type": "markdown",
   "metadata": {},
   "source": [
    "# Code"
   ]
  },
  {
   "cell_type": "code",
   "execution_count": 14,
   "metadata": {},
   "outputs": [],
   "source": [
    "archive_df_clean = archive_df_clean.replace(to_replace =\"None\", \n",
    "                 value =\"\") \n"
   ]
  },
  {
   "cell_type": "markdown",
   "metadata": {},
   "source": [
    "# Test"
   ]
  },
  {
   "cell_type": "code",
   "execution_count": 23,
   "metadata": {},
   "outputs": [
    {
     "data": {
      "text/html": [
       "<div>\n",
       "<style scoped>\n",
       "    .dataframe tbody tr th:only-of-type {\n",
       "        vertical-align: middle;\n",
       "    }\n",
       "\n",
       "    .dataframe tbody tr th {\n",
       "        vertical-align: top;\n",
       "    }\n",
       "\n",
       "    .dataframe thead th {\n",
       "        text-align: right;\n",
       "    }\n",
       "</style>\n",
       "<table border=\"1\" class=\"dataframe\">\n",
       "  <thead>\n",
       "    <tr style=\"text-align: right;\">\n",
       "      <th></th>\n",
       "      <th>tweet_id</th>\n",
       "      <th>timestamp</th>\n",
       "      <th>source</th>\n",
       "      <th>text</th>\n",
       "      <th>expanded_urls</th>\n",
       "      <th>rating_numerator</th>\n",
       "      <th>rating_denominator</th>\n",
       "      <th>name</th>\n",
       "      <th>doggo</th>\n",
       "      <th>floofer</th>\n",
       "      <th>pupper</th>\n",
       "      <th>puppo</th>\n",
       "    </tr>\n",
       "  </thead>\n",
       "  <tbody>\n",
       "    <tr>\n",
       "      <th>1336</th>\n",
       "      <td>705223444686888960</td>\n",
       "      <td>2016-03-03 02:49:06</td>\n",
       "      <td>&lt;a href=\"http://twitter.com/download/iphone\" r...</td>\n",
       "      <td>This is Bode. He's a heavy sleeper. 9/10 https...</td>\n",
       "      <td>https://twitter.com/dog_rates/status/705223444...</td>\n",
       "      <td>9</td>\n",
       "      <td>10</td>\n",
       "      <td>Bode</td>\n",
       "      <td></td>\n",
       "      <td></td>\n",
       "      <td></td>\n",
       "      <td></td>\n",
       "    </tr>\n",
       "    <tr>\n",
       "      <th>531</th>\n",
       "      <td>808106460588765185</td>\n",
       "      <td>2016-12-12 00:29:28</td>\n",
       "      <td>&lt;a href=\"http://twitter.com/download/iphone\" r...</td>\n",
       "      <td>Here we have Burke (pupper) and Dexter (doggo)...</td>\n",
       "      <td>https://twitter.com/dog_rates/status/808106460...</td>\n",
       "      <td>12</td>\n",
       "      <td>10</td>\n",
       "      <td></td>\n",
       "      <td>doggo</td>\n",
       "      <td></td>\n",
       "      <td>pupper</td>\n",
       "      <td></td>\n",
       "    </tr>\n",
       "    <tr>\n",
       "      <th>122</th>\n",
       "      <td>869227993411051520</td>\n",
       "      <td>2017-05-29 16:24:37</td>\n",
       "      <td>&lt;a href=\"http://twitter.com/download/iphone\" r...</td>\n",
       "      <td>This is Gizmo. His favorite thing is standing ...</td>\n",
       "      <td>https://twitter.com/dog_rates/status/869227993...</td>\n",
       "      <td>13</td>\n",
       "      <td>10</td>\n",
       "      <td>Gizmo</td>\n",
       "      <td></td>\n",
       "      <td></td>\n",
       "      <td></td>\n",
       "      <td></td>\n",
       "    </tr>\n",
       "    <tr>\n",
       "      <th>1437</th>\n",
       "      <td>697242256848379904</td>\n",
       "      <td>2016-02-10 02:14:42</td>\n",
       "      <td>&lt;a href=\"http://twitter.com/download/iphone\" r...</td>\n",
       "      <td>This is Oakley. He has a massive tumor growing...</td>\n",
       "      <td>https://twitter.com/dog_rates/status/697242256...</td>\n",
       "      <td>10</td>\n",
       "      <td>10</td>\n",
       "      <td>Oakley</td>\n",
       "      <td></td>\n",
       "      <td></td>\n",
       "      <td></td>\n",
       "      <td></td>\n",
       "    </tr>\n",
       "    <tr>\n",
       "      <th>50</th>\n",
       "      <td>882627270321602560</td>\n",
       "      <td>2017-07-05 15:48:34</td>\n",
       "      <td>&lt;a href=\"http://twitter.com/download/iphone\" r...</td>\n",
       "      <td>This is Stanley. He has his first swim lesson ...</td>\n",
       "      <td>https://twitter.com/dog_rates/status/882627270...</td>\n",
       "      <td>13</td>\n",
       "      <td>10</td>\n",
       "      <td>Stanley</td>\n",
       "      <td></td>\n",
       "      <td></td>\n",
       "      <td></td>\n",
       "      <td></td>\n",
       "    </tr>\n",
       "    <tr>\n",
       "      <th>1818</th>\n",
       "      <td>676593408224403456</td>\n",
       "      <td>2015-12-15 02:43:33</td>\n",
       "      <td>&lt;a href=\"http://vine.co\" rel=\"nofollow\"&gt;Vine -...</td>\n",
       "      <td>This pupper loves leaves. 11/10 for committed ...</td>\n",
       "      <td>https://vine.co/v/eEQQaPFbgOY</td>\n",
       "      <td>11</td>\n",
       "      <td>10</td>\n",
       "      <td></td>\n",
       "      <td></td>\n",
       "      <td></td>\n",
       "      <td>pupper</td>\n",
       "      <td></td>\n",
       "    </tr>\n",
       "    <tr>\n",
       "      <th>1719</th>\n",
       "      <td>680161097740095489</td>\n",
       "      <td>2015-12-24 23:00:17</td>\n",
       "      <td>&lt;a href=\"http://twitter.com/download/iphone\" r...</td>\n",
       "      <td>Meet Goliath. He's an example of irony. Head i...</td>\n",
       "      <td>https://twitter.com/dog_rates/status/680161097...</td>\n",
       "      <td>12</td>\n",
       "      <td>10</td>\n",
       "      <td>Goliath</td>\n",
       "      <td></td>\n",
       "      <td></td>\n",
       "      <td></td>\n",
       "      <td></td>\n",
       "    </tr>\n",
       "    <tr>\n",
       "      <th>1373</th>\n",
       "      <td>701981390485725185</td>\n",
       "      <td>2016-02-23 04:06:20</td>\n",
       "      <td>&lt;a href=\"http://twitter.com/download/iphone\" r...</td>\n",
       "      <td>This is Fiji. She's a Powdered Stegafloof. Ver...</td>\n",
       "      <td>https://twitter.com/dog_rates/status/701981390...</td>\n",
       "      <td>12</td>\n",
       "      <td>10</td>\n",
       "      <td>Fiji</td>\n",
       "      <td></td>\n",
       "      <td></td>\n",
       "      <td></td>\n",
       "      <td></td>\n",
       "    </tr>\n",
       "    <tr>\n",
       "      <th>1655</th>\n",
       "      <td>683391852557561860</td>\n",
       "      <td>2016-01-02 20:58:09</td>\n",
       "      <td>&lt;a href=\"http://twitter.com/download/iphone\" r...</td>\n",
       "      <td>Say hello to Jack (pronounced \"Kevin\"). He's a...</td>\n",
       "      <td>https://twitter.com/dog_rates/status/683391852...</td>\n",
       "      <td>11</td>\n",
       "      <td>10</td>\n",
       "      <td>Jack</td>\n",
       "      <td></td>\n",
       "      <td></td>\n",
       "      <td></td>\n",
       "      <td></td>\n",
       "    </tr>\n",
       "    <tr>\n",
       "      <th>2228</th>\n",
       "      <td>668256321989451776</td>\n",
       "      <td>2015-11-22 02:34:57</td>\n",
       "      <td>&lt;a href=\"http://twitter.com/download/iphone\" r...</td>\n",
       "      <td>This is Jareld. Jareld rules these waters. Lad...</td>\n",
       "      <td>https://twitter.com/dog_rates/status/668256321...</td>\n",
       "      <td>13</td>\n",
       "      <td>10</td>\n",
       "      <td>Jareld</td>\n",
       "      <td></td>\n",
       "      <td></td>\n",
       "      <td></td>\n",
       "      <td></td>\n",
       "    </tr>\n",
       "  </tbody>\n",
       "</table>\n",
       "</div>"
      ],
      "text/plain": [
       "                tweet_id           timestamp  \\\n",
       "1336  705223444686888960 2016-03-03 02:49:06   \n",
       "531   808106460588765185 2016-12-12 00:29:28   \n",
       "122   869227993411051520 2017-05-29 16:24:37   \n",
       "1437  697242256848379904 2016-02-10 02:14:42   \n",
       "50    882627270321602560 2017-07-05 15:48:34   \n",
       "1818  676593408224403456 2015-12-15 02:43:33   \n",
       "1719  680161097740095489 2015-12-24 23:00:17   \n",
       "1373  701981390485725185 2016-02-23 04:06:20   \n",
       "1655  683391852557561860 2016-01-02 20:58:09   \n",
       "2228  668256321989451776 2015-11-22 02:34:57   \n",
       "\n",
       "                                                 source  \\\n",
       "1336  <a href=\"http://twitter.com/download/iphone\" r...   \n",
       "531   <a href=\"http://twitter.com/download/iphone\" r...   \n",
       "122   <a href=\"http://twitter.com/download/iphone\" r...   \n",
       "1437  <a href=\"http://twitter.com/download/iphone\" r...   \n",
       "50    <a href=\"http://twitter.com/download/iphone\" r...   \n",
       "1818  <a href=\"http://vine.co\" rel=\"nofollow\">Vine -...   \n",
       "1719  <a href=\"http://twitter.com/download/iphone\" r...   \n",
       "1373  <a href=\"http://twitter.com/download/iphone\" r...   \n",
       "1655  <a href=\"http://twitter.com/download/iphone\" r...   \n",
       "2228  <a href=\"http://twitter.com/download/iphone\" r...   \n",
       "\n",
       "                                                   text  \\\n",
       "1336  This is Bode. He's a heavy sleeper. 9/10 https...   \n",
       "531   Here we have Burke (pupper) and Dexter (doggo)...   \n",
       "122   This is Gizmo. His favorite thing is standing ...   \n",
       "1437  This is Oakley. He has a massive tumor growing...   \n",
       "50    This is Stanley. He has his first swim lesson ...   \n",
       "1818  This pupper loves leaves. 11/10 for committed ...   \n",
       "1719  Meet Goliath. He's an example of irony. Head i...   \n",
       "1373  This is Fiji. She's a Powdered Stegafloof. Ver...   \n",
       "1655  Say hello to Jack (pronounced \"Kevin\"). He's a...   \n",
       "2228  This is Jareld. Jareld rules these waters. Lad...   \n",
       "\n",
       "                                          expanded_urls  rating_numerator  \\\n",
       "1336  https://twitter.com/dog_rates/status/705223444...                 9   \n",
       "531   https://twitter.com/dog_rates/status/808106460...                12   \n",
       "122   https://twitter.com/dog_rates/status/869227993...                13   \n",
       "1437  https://twitter.com/dog_rates/status/697242256...                10   \n",
       "50    https://twitter.com/dog_rates/status/882627270...                13   \n",
       "1818                      https://vine.co/v/eEQQaPFbgOY                11   \n",
       "1719  https://twitter.com/dog_rates/status/680161097...                12   \n",
       "1373  https://twitter.com/dog_rates/status/701981390...                12   \n",
       "1655  https://twitter.com/dog_rates/status/683391852...                11   \n",
       "2228  https://twitter.com/dog_rates/status/668256321...                13   \n",
       "\n",
       "      rating_denominator     name  doggo floofer  pupper puppo  \n",
       "1336                  10     Bode                               \n",
       "531                   10           doggo          pupper        \n",
       "122                   10    Gizmo                               \n",
       "1437                  10   Oakley                               \n",
       "50                    10  Stanley                               \n",
       "1818                  10                          pupper        \n",
       "1719                  10  Goliath                               \n",
       "1373                  10     Fiji                               \n",
       "1655                  10     Jack                               \n",
       "2228                  10   Jareld                               "
      ]
     },
     "execution_count": 23,
     "metadata": {},
     "output_type": "execute_result"
    }
   ],
   "source": [
    "archive_df_clean.sample(10)\n"
   ]
  },
  {
   "cell_type": "code",
   "execution_count": 28,
   "metadata": {},
   "outputs": [
    {
     "name": "stdout",
     "output_type": "stream",
     "text": [
      "<class 'pandas.core.frame.DataFrame'>\n",
      "RangeIndex: 2097 entries, 0 to 2096\n",
      "Data columns (total 12 columns):\n",
      "tweet_id              2097 non-null int64\n",
      "timestamp             2097 non-null datetime64[ns]\n",
      "source                2097 non-null object\n",
      "text                  2097 non-null object\n",
      "expanded_urls         2094 non-null object\n",
      "rating_numerator      2097 non-null int64\n",
      "rating_denominator    2097 non-null int64\n",
      "name                  2097 non-null object\n",
      "doggo                 2097 non-null object\n",
      "floofer               2097 non-null object\n",
      "pupper                2097 non-null object\n",
      "puppo                 2097 non-null object\n",
      "dtypes: datetime64[ns](1), int64(3), object(8)\n",
      "memory usage: 196.7+ KB\n"
     ]
    }
   ],
   "source": [
    "archive_df_clean.info()"
   ]
  },
  {
   "cell_type": "markdown",
   "metadata": {},
   "source": [
    "# Define"
   ]
  },
  {
   "cell_type": "markdown",
   "metadata": {},
   "source": [
    "Using add + Make new column dog_breed to store classfication of dog: doggo,floofer,pupper,puppo  "
   ]
  },
  {
   "cell_type": "markdown",
   "metadata": {},
   "source": [
    "# Code"
   ]
  },
  {
   "cell_type": "code",
   "execution_count": 15,
   "metadata": {},
   "outputs": [],
   "source": [
    "archive_df_clean[\"dog_breed\"] = archive_df_clean[\"doggo\"] + archive_df_clean[\"floofer\"] + archive_df_clean[\"pupper\"] + archive_df_clean[\"puppo\"]"
   ]
  },
  {
   "cell_type": "code",
   "execution_count": 16,
   "metadata": {},
   "outputs": [
    {
     "data": {
      "text/plain": [
       "                1761\n",
       "pupper           221\n",
       "doggo             72\n",
       "puppo             23\n",
       "floofer            9\n",
       "doggopupper        9\n",
       "doggopuppo         1\n",
       "doggofloofer       1\n",
       "Name: dog_breed, dtype: int64"
      ]
     },
     "execution_count": 16,
     "metadata": {},
     "output_type": "execute_result"
    }
   ],
   "source": [
    "archive_df_clean[\"dog_breed\"].value_counts()"
   ]
  },
  {
   "cell_type": "code",
   "execution_count": 17,
   "metadata": {},
   "outputs": [],
   "source": [
    "archive_df_clean = archive_df_clean.drop([\"doggo\",\"floofer\",\"pupper\",\"puppo\"], axis = 1)"
   ]
  },
  {
   "cell_type": "markdown",
   "metadata": {},
   "source": [
    "# Test"
   ]
  },
  {
   "cell_type": "code",
   "execution_count": 18,
   "metadata": {},
   "outputs": [
    {
     "name": "stdout",
     "output_type": "stream",
     "text": [
      "<class 'pandas.core.frame.DataFrame'>\n",
      "RangeIndex: 2097 entries, 0 to 2096\n",
      "Data columns (total 9 columns):\n",
      "tweet_id              2097 non-null int64\n",
      "timestamp             2097 non-null datetime64[ns]\n",
      "source                2097 non-null object\n",
      "text                  2097 non-null object\n",
      "expanded_urls         2094 non-null object\n",
      "rating_numerator      2097 non-null int64\n",
      "rating_denominator    2097 non-null int64\n",
      "name                  2097 non-null object\n",
      "dog_breed             2097 non-null object\n",
      "dtypes: datetime64[ns](1), int64(3), object(5)\n",
      "memory usage: 147.5+ KB\n"
     ]
    }
   ],
   "source": [
    "archive_df_clean.info()"
   ]
  },
  {
   "cell_type": "code",
   "execution_count": null,
   "metadata": {},
   "outputs": [],
   "source": []
  },
  {
   "cell_type": "markdown",
   "metadata": {},
   "source": [
    "# Define"
   ]
  },
  {
   "cell_type": "markdown",
   "metadata": {},
   "source": [
    "Using loc to rename classfication of dog to be readable by seprate it with \"-\""
   ]
  },
  {
   "cell_type": "markdown",
   "metadata": {},
   "source": [
    "# Code"
   ]
  },
  {
   "cell_type": "code",
   "execution_count": 19,
   "metadata": {},
   "outputs": [],
   "source": [
    "archive_df_clean.loc[archive_df_clean.dog_breed == 'doggopupper', 'dog_breed'] = 'doggo-pupper'\n"
   ]
  },
  {
   "cell_type": "code",
   "execution_count": 20,
   "metadata": {},
   "outputs": [],
   "source": [
    "archive_df_clean.loc[archive_df_clean.dog_breed == 'doggofloofer', 'dog_breed'] = 'doggo-floofer'\n",
    "\n"
   ]
  },
  {
   "cell_type": "code",
   "execution_count": 21,
   "metadata": {},
   "outputs": [],
   "source": [
    "archive_df_clean.loc[archive_df_clean.dog_breed == 'doggopuppo', 'dog_breed'] = 'doggo-puppo'\n",
    "\n"
   ]
  },
  {
   "cell_type": "markdown",
   "metadata": {},
   "source": [
    "# Test"
   ]
  },
  {
   "cell_type": "code",
   "execution_count": 26,
   "metadata": {},
   "outputs": [
    {
     "data": {
      "text/plain": [
       "                 1761\n",
       "pupper            221\n",
       "doggo              72\n",
       "puppo              23\n",
       "doggo-pupper        9\n",
       "floofer             9\n",
       "doggo-puppo         1\n",
       "doggo-floofer       1\n",
       "Name: dog_breed, dtype: int64"
      ]
     },
     "execution_count": 26,
     "metadata": {},
     "output_type": "execute_result"
    }
   ],
   "source": [
    "archive_df_clean.dog_breed.value_counts()"
   ]
  },
  {
   "cell_type": "markdown",
   "metadata": {},
   "source": [
    "# Define"
   ]
  },
  {
   "cell_type": "markdown",
   "metadata": {},
   "source": [
    "Using replace to replace \"\" values with Nan in dog_breed"
   ]
  },
  {
   "cell_type": "markdown",
   "metadata": {},
   "source": [
    "# code"
   ]
  },
  {
   "cell_type": "code",
   "execution_count": 22,
   "metadata": {},
   "outputs": [],
   "source": [
    "archive_df_clean.dog_breed = archive_df_clean.dog_breed.replace(\"\", np.NaN, regex=True)\n"
   ]
  },
  {
   "cell_type": "markdown",
   "metadata": {},
   "source": [
    "# Test"
   ]
  },
  {
   "cell_type": "code",
   "execution_count": 33,
   "metadata": {},
   "outputs": [
    {
     "data": {
      "text/plain": [
       "970        NaN\n",
       "1529       NaN\n",
       "408        NaN\n",
       "82      pupper\n",
       "75         NaN\n",
       "Name: dog_breed, dtype: object"
      ]
     },
     "execution_count": 33,
     "metadata": {},
     "output_type": "execute_result"
    }
   ],
   "source": [
    "archive_df_clean.dog_breed.sample(5)"
   ]
  },
  {
   "cell_type": "code",
   "execution_count": 35,
   "metadata": {},
   "outputs": [
    {
     "data": {
      "text/html": [
       "<div>\n",
       "<style scoped>\n",
       "    .dataframe tbody tr th:only-of-type {\n",
       "        vertical-align: middle;\n",
       "    }\n",
       "\n",
       "    .dataframe tbody tr th {\n",
       "        vertical-align: top;\n",
       "    }\n",
       "\n",
       "    .dataframe thead th {\n",
       "        text-align: right;\n",
       "    }\n",
       "</style>\n",
       "<table border=\"1\" class=\"dataframe\">\n",
       "  <thead>\n",
       "    <tr style=\"text-align: right;\">\n",
       "      <th></th>\n",
       "      <th>tweet_id</th>\n",
       "      <th>jpg_url</th>\n",
       "      <th>img_num</th>\n",
       "      <th>p1</th>\n",
       "      <th>p1_conf</th>\n",
       "      <th>p1_dog</th>\n",
       "      <th>p2</th>\n",
       "      <th>p2_conf</th>\n",
       "      <th>p2_dog</th>\n",
       "      <th>p3</th>\n",
       "      <th>p3_conf</th>\n",
       "      <th>p3_dog</th>\n",
       "    </tr>\n",
       "  </thead>\n",
       "  <tbody>\n",
       "    <tr>\n",
       "      <th>371</th>\n",
       "      <td>672980819271634944</td>\n",
       "      <td>https://pbs.twimg.com/media/CVbodBOUsAAb7jZ.jpg</td>\n",
       "      <td>1</td>\n",
       "      <td>car_mirror</td>\n",
       "      <td>0.232754</td>\n",
       "      <td>False</td>\n",
       "      <td>basset</td>\n",
       "      <td>0.219461</td>\n",
       "      <td>True</td>\n",
       "      <td>beagle</td>\n",
       "      <td>0.112397</td>\n",
       "      <td>True</td>\n",
       "    </tr>\n",
       "    <tr>\n",
       "      <th>44</th>\n",
       "      <td>666781792255496192</td>\n",
       "      <td>https://pbs.twimg.com/media/CUDigRXXIAATI_H.jpg</td>\n",
       "      <td>1</td>\n",
       "      <td>Italian_greyhound</td>\n",
       "      <td>0.618316</td>\n",
       "      <td>True</td>\n",
       "      <td>Weimaraner</td>\n",
       "      <td>0.151363</td>\n",
       "      <td>True</td>\n",
       "      <td>vizsla</td>\n",
       "      <td>0.085989</td>\n",
       "      <td>True</td>\n",
       "    </tr>\n",
       "    <tr>\n",
       "      <th>914</th>\n",
       "      <td>700890391244103680</td>\n",
       "      <td>https://pbs.twimg.com/media/CboQFolWIAE04qE.jpg</td>\n",
       "      <td>1</td>\n",
       "      <td>white_wolf</td>\n",
       "      <td>0.166563</td>\n",
       "      <td>False</td>\n",
       "      <td>schipperke</td>\n",
       "      <td>0.122356</td>\n",
       "      <td>True</td>\n",
       "      <td>West_Highland_white_terrier</td>\n",
       "      <td>0.119247</td>\n",
       "      <td>True</td>\n",
       "    </tr>\n",
       "    <tr>\n",
       "      <th>712</th>\n",
       "      <td>685321586178670592</td>\n",
       "      <td>https://pbs.twimg.com/media/CYLAWFMWMAEcRzb.jpg</td>\n",
       "      <td>1</td>\n",
       "      <td>Boston_bull</td>\n",
       "      <td>0.972483</td>\n",
       "      <td>True</td>\n",
       "      <td>French_bulldog</td>\n",
       "      <td>0.025469</td>\n",
       "      <td>True</td>\n",
       "      <td>boxer</td>\n",
       "      <td>0.000458</td>\n",
       "      <td>True</td>\n",
       "    </tr>\n",
       "    <tr>\n",
       "      <th>298</th>\n",
       "      <td>671485057807351808</td>\n",
       "      <td>https://pbs.twimg.com/media/CVGYGNYXAAAQ9m-.jpg</td>\n",
       "      <td>1</td>\n",
       "      <td>Samoyed</td>\n",
       "      <td>0.627901</td>\n",
       "      <td>True</td>\n",
       "      <td>Great_Pyrenees</td>\n",
       "      <td>0.276421</td>\n",
       "      <td>True</td>\n",
       "      <td>kuvasz</td>\n",
       "      <td>0.057874</td>\n",
       "      <td>True</td>\n",
       "    </tr>\n",
       "    <tr>\n",
       "      <th>1324</th>\n",
       "      <td>756939218950160384</td>\n",
       "      <td>https://pbs.twimg.com/media/CoEwMXeWEAAaIz5.jpg</td>\n",
       "      <td>1</td>\n",
       "      <td>golden_retriever</td>\n",
       "      <td>0.790371</td>\n",
       "      <td>True</td>\n",
       "      <td>cocker_spaniel</td>\n",
       "      <td>0.130268</td>\n",
       "      <td>True</td>\n",
       "      <td>Labrador_retriever</td>\n",
       "      <td>0.064629</td>\n",
       "      <td>True</td>\n",
       "    </tr>\n",
       "    <tr>\n",
       "      <th>996</th>\n",
       "      <td>708349470027751425</td>\n",
       "      <td>https://pbs.twimg.com/media/CdSQFWOWAAApgfq.jpg</td>\n",
       "      <td>1</td>\n",
       "      <td>muzzle</td>\n",
       "      <td>0.243890</td>\n",
       "      <td>False</td>\n",
       "      <td>basenji</td>\n",
       "      <td>0.187158</td>\n",
       "      <td>True</td>\n",
       "      <td>Boston_bull</td>\n",
       "      <td>0.092727</td>\n",
       "      <td>True</td>\n",
       "    </tr>\n",
       "    <tr>\n",
       "      <th>306</th>\n",
       "      <td>671528761649688577</td>\n",
       "      <td>https://pbs.twimg.com/media/CVG_2I-WIAASKSS.jpg</td>\n",
       "      <td>1</td>\n",
       "      <td>Doberman</td>\n",
       "      <td>0.782626</td>\n",
       "      <td>True</td>\n",
       "      <td>black-and-tan_coonhound</td>\n",
       "      <td>0.109678</td>\n",
       "      <td>True</td>\n",
       "      <td>Gordon_setter</td>\n",
       "      <td>0.052110</td>\n",
       "      <td>True</td>\n",
       "    </tr>\n",
       "    <tr>\n",
       "      <th>1060</th>\n",
       "      <td>715009755312439296</td>\n",
       "      <td>https://pbs.twimg.com/media/Cew5kyOWsAA8Y_o.jpg</td>\n",
       "      <td>1</td>\n",
       "      <td>dingo</td>\n",
       "      <td>0.310903</td>\n",
       "      <td>False</td>\n",
       "      <td>Chihuahua</td>\n",
       "      <td>0.142288</td>\n",
       "      <td>True</td>\n",
       "      <td>Cardigan</td>\n",
       "      <td>0.103945</td>\n",
       "      <td>True</td>\n",
       "    </tr>\n",
       "    <tr>\n",
       "      <th>1579</th>\n",
       "      <td>796177847564038144</td>\n",
       "      <td>https://pbs.twimg.com/media/Cwx99rpW8AMk_Ie.jpg</td>\n",
       "      <td>1</td>\n",
       "      <td>golden_retriever</td>\n",
       "      <td>0.600276</td>\n",
       "      <td>True</td>\n",
       "      <td>Labrador_retriever</td>\n",
       "      <td>0.140798</td>\n",
       "      <td>True</td>\n",
       "      <td>seat_belt</td>\n",
       "      <td>0.087355</td>\n",
       "      <td>False</td>\n",
       "    </tr>\n",
       "  </tbody>\n",
       "</table>\n",
       "</div>"
      ],
      "text/plain": [
       "                tweet_id                                          jpg_url  \\\n",
       "371   672980819271634944  https://pbs.twimg.com/media/CVbodBOUsAAb7jZ.jpg   \n",
       "44    666781792255496192  https://pbs.twimg.com/media/CUDigRXXIAATI_H.jpg   \n",
       "914   700890391244103680  https://pbs.twimg.com/media/CboQFolWIAE04qE.jpg   \n",
       "712   685321586178670592  https://pbs.twimg.com/media/CYLAWFMWMAEcRzb.jpg   \n",
       "298   671485057807351808  https://pbs.twimg.com/media/CVGYGNYXAAAQ9m-.jpg   \n",
       "1324  756939218950160384  https://pbs.twimg.com/media/CoEwMXeWEAAaIz5.jpg   \n",
       "996   708349470027751425  https://pbs.twimg.com/media/CdSQFWOWAAApgfq.jpg   \n",
       "306   671528761649688577  https://pbs.twimg.com/media/CVG_2I-WIAASKSS.jpg   \n",
       "1060  715009755312439296  https://pbs.twimg.com/media/Cew5kyOWsAA8Y_o.jpg   \n",
       "1579  796177847564038144  https://pbs.twimg.com/media/Cwx99rpW8AMk_Ie.jpg   \n",
       "\n",
       "      img_num                 p1   p1_conf  p1_dog                       p2  \\\n",
       "371         1         car_mirror  0.232754   False                   basset   \n",
       "44          1  Italian_greyhound  0.618316    True               Weimaraner   \n",
       "914         1         white_wolf  0.166563   False               schipperke   \n",
       "712         1        Boston_bull  0.972483    True           French_bulldog   \n",
       "298         1            Samoyed  0.627901    True           Great_Pyrenees   \n",
       "1324        1   golden_retriever  0.790371    True           cocker_spaniel   \n",
       "996         1             muzzle  0.243890   False                  basenji   \n",
       "306         1           Doberman  0.782626    True  black-and-tan_coonhound   \n",
       "1060        1              dingo  0.310903   False                Chihuahua   \n",
       "1579        1   golden_retriever  0.600276    True       Labrador_retriever   \n",
       "\n",
       "       p2_conf  p2_dog                           p3   p3_conf  p3_dog  \n",
       "371   0.219461    True                       beagle  0.112397    True  \n",
       "44    0.151363    True                       vizsla  0.085989    True  \n",
       "914   0.122356    True  West_Highland_white_terrier  0.119247    True  \n",
       "712   0.025469    True                        boxer  0.000458    True  \n",
       "298   0.276421    True                       kuvasz  0.057874    True  \n",
       "1324  0.130268    True           Labrador_retriever  0.064629    True  \n",
       "996   0.187158    True                  Boston_bull  0.092727    True  \n",
       "306   0.109678    True                Gordon_setter  0.052110    True  \n",
       "1060  0.142288    True                     Cardigan  0.103945    True  \n",
       "1579  0.140798    True                    seat_belt  0.087355   False  "
      ]
     },
     "execution_count": 35,
     "metadata": {},
     "output_type": "execute_result"
    }
   ],
   "source": [
    "image_df_clean.sample(10)"
   ]
  },
  {
   "cell_type": "code",
   "execution_count": 51,
   "metadata": {},
   "outputs": [
    {
     "name": "stdout",
     "output_type": "stream",
     "text": [
      "<class 'pandas.core.frame.DataFrame'>\n",
      "RangeIndex: 2075 entries, 0 to 2074\n",
      "Data columns (total 12 columns):\n",
      "tweet_id    2075 non-null int64\n",
      "jpg_url     2075 non-null object\n",
      "img_num     2075 non-null int64\n",
      "p1          2075 non-null object\n",
      "p1_conf     2075 non-null float64\n",
      "p1_dog      2075 non-null bool\n",
      "p2          2075 non-null object\n",
      "p2_conf     2075 non-null float64\n",
      "p2_dog      2075 non-null bool\n",
      "p3          2075 non-null object\n",
      "p3_conf     2075 non-null float64\n",
      "p3_dog      2075 non-null bool\n",
      "dtypes: bool(3), float64(3), int64(2), object(4)\n",
      "memory usage: 152.1+ KB\n"
     ]
    }
   ],
   "source": [
    "image_df_clean.info()"
   ]
  },
  {
   "cell_type": "code",
   "execution_count": 52,
   "metadata": {},
   "outputs": [
    {
     "name": "stdout",
     "output_type": "stream",
     "text": [
      "<class 'pandas.core.frame.DataFrame'>\n",
      "RangeIndex: 2354 entries, 0 to 2353\n",
      "Data columns (total 4 columns):\n",
      "tweet_id            2354 non-null int64\n",
      "retweet_count       2354 non-null int64\n",
      "favourites_count    2354 non-null int64\n",
      "user_count          2354 non-null int64\n",
      "dtypes: int64(4)\n",
      "memory usage: 73.6 KB\n"
     ]
    }
   ],
   "source": [
    "api_df.info()"
   ]
  },
  {
   "cell_type": "code",
   "execution_count": 72,
   "metadata": {},
   "outputs": [
    {
     "name": "stdout",
     "output_type": "stream",
     "text": [
      "<class 'pandas.core.frame.DataFrame'>\n",
      "RangeIndex: 1971 entries, 0 to 1970\n",
      "Data columns (total 9 columns):\n",
      "tweet_id              1971 non-null int64\n",
      "timestamp             1971 non-null datetime64[ns]\n",
      "source                1971 non-null object\n",
      "text                  1971 non-null object\n",
      "expanded_urls         1971 non-null object\n",
      "rating_numerator      1971 non-null int64\n",
      "rating_denominator    1971 non-null int64\n",
      "name                  1971 non-null object\n",
      "dog_breed             303 non-null object\n",
      "dtypes: datetime64[ns](1), int64(3), object(5)\n",
      "memory usage: 138.7+ KB\n"
     ]
    }
   ],
   "source": [
    "archive_df_clean.info()"
   ]
  },
  {
   "cell_type": "markdown",
   "metadata": {},
   "source": [
    "# Define"
   ]
  },
  {
   "cell_type": "markdown",
   "metadata": {},
   "source": [
    "Using list,unique to filter archive_df_clean with image tweets"
   ]
  },
  {
   "cell_type": "markdown",
   "metadata": {},
   "source": [
    "# Code"
   ]
  },
  {
   "cell_type": "code",
   "execution_count": 23,
   "metadata": {},
   "outputs": [],
   "source": [
    "# creating a list of tweet_ids with images \"tweets_with_image\" and confirming its length\n",
    "tweets_with_image = list(image_df_clean.tweet_id.unique())\n"
   ]
  },
  {
   "cell_type": "code",
   "execution_count": 24,
   "metadata": {},
   "outputs": [],
   "source": [
    "# Cleaning in action ;)\n",
    "archive_df_clean = archive_df_clean[archive_df_clean.tweet_id.isin(tweets_with_image)]"
   ]
  },
  {
   "cell_type": "markdown",
   "metadata": {},
   "source": [
    "# Test"
   ]
  },
  {
   "cell_type": "code",
   "execution_count": 38,
   "metadata": {},
   "outputs": [
    {
     "data": {
      "text/plain": [
       "1971"
      ]
     },
     "execution_count": 38,
     "metadata": {},
     "output_type": "execute_result"
    }
   ],
   "source": [
    "archive_df_clean.tweet_id.count()"
   ]
  },
  {
   "cell_type": "markdown",
   "metadata": {},
   "source": [
    "# Define"
   ]
  },
  {
   "cell_type": "markdown",
   "metadata": {},
   "source": [
    "Using list,unique to filter image_df_clean That is not in reply and retweet"
   ]
  },
  {
   "cell_type": "markdown",
   "metadata": {},
   "source": [
    "# Code"
   ]
  },
  {
   "cell_type": "code",
   "execution_count": 25,
   "metadata": {},
   "outputs": [],
   "source": [
    "tweets_with_image = list(archive_df_clean.tweet_id.unique())\n",
    "\n"
   ]
  },
  {
   "cell_type": "code",
   "execution_count": 26,
   "metadata": {},
   "outputs": [],
   "source": [
    "image_df_clean = image_df_clean[image_df_clean.tweet_id.isin(tweets_with_image)]"
   ]
  },
  {
   "cell_type": "markdown",
   "metadata": {},
   "source": [
    "# Test"
   ]
  },
  {
   "cell_type": "code",
   "execution_count": 54,
   "metadata": {},
   "outputs": [
    {
     "name": "stdout",
     "output_type": "stream",
     "text": [
      "<class 'pandas.core.frame.DataFrame'>\n",
      "RangeIndex: 5913 entries, 0 to 5912\n",
      "Data columns (total 7 columns):\n",
      "tweet_id            5913 non-null int64\n",
      "jpg_url             5913 non-null object\n",
      "img_num             5913 non-null int64\n",
      "prediction_level    5913 non-null int64\n",
      "prediction          5913 non-null object\n",
      "confidence          5913 non-null float64\n",
      "breed               5913 non-null bool\n",
      "dtypes: bool(1), float64(1), int64(3), object(2)\n",
      "memory usage: 283.0+ KB\n"
     ]
    }
   ],
   "source": [
    "image_df_clean.info()"
   ]
  },
  {
   "cell_type": "markdown",
   "metadata": {},
   "source": [
    "# Define"
   ]
  },
  {
   "cell_type": "markdown",
   "metadata": {},
   "source": [
    "Using list,unique to filter according to image_df_clean that's we had filter it"
   ]
  },
  {
   "cell_type": "markdown",
   "metadata": {},
   "source": [
    "# Code"
   ]
  },
  {
   "cell_type": "code",
   "execution_count": 27,
   "metadata": {},
   "outputs": [],
   "source": [
    "tweets_with_image = list(image_df_clean.tweet_id.unique())\n"
   ]
  },
  {
   "cell_type": "code",
   "execution_count": 28,
   "metadata": {},
   "outputs": [],
   "source": [
    "api_df_clean = api_df_clean[api_df_clean.tweet_id.isin(tweets_with_image)]"
   ]
  },
  {
   "cell_type": "markdown",
   "metadata": {},
   "source": [
    "# Test"
   ]
  },
  {
   "cell_type": "code",
   "execution_count": 97,
   "metadata": {},
   "outputs": [
    {
     "data": {
      "text/plain": [
       "(5913, 7)"
      ]
     },
     "execution_count": 97,
     "metadata": {},
     "output_type": "execute_result"
    }
   ],
   "source": [
    "image_df_clean.shape"
   ]
  },
  {
   "cell_type": "markdown",
   "metadata": {},
   "source": [
    "# Define"
   ]
  },
  {
   "cell_type": "markdown",
   "metadata": {},
   "source": [
    "using reset_index in archive_df_clean , image_df_clean , api_df_clean to reset index"
   ]
  },
  {
   "cell_type": "markdown",
   "metadata": {},
   "source": [
    "# Code"
   ]
  },
  {
   "cell_type": "code",
   "execution_count": 29,
   "metadata": {},
   "outputs": [],
   "source": [
    "archive_df_clean = archive_df_clean.reset_index(drop=True)\n"
   ]
  },
  {
   "cell_type": "code",
   "execution_count": 30,
   "metadata": {},
   "outputs": [],
   "source": [
    "image_df_clean = image_df_clean.reset_index(drop=True)\n",
    "\n"
   ]
  },
  {
   "cell_type": "code",
   "execution_count": 31,
   "metadata": {},
   "outputs": [],
   "source": [
    "api_df_clean = api_df_clean.reset_index(drop=True)"
   ]
  },
  {
   "cell_type": "markdown",
   "metadata": {},
   "source": [
    "# Test"
   ]
  },
  {
   "cell_type": "code",
   "execution_count": 32,
   "metadata": {},
   "outputs": [
    {
     "name": "stdout",
     "output_type": "stream",
     "text": [
      "<class 'pandas.core.frame.DataFrame'>\n",
      "RangeIndex: 1971 entries, 0 to 1970\n",
      "Data columns (total 4 columns):\n",
      "tweet_id            1971 non-null int64\n",
      "retweet_count       1971 non-null int64\n",
      "favourites_count    1971 non-null int64\n",
      "user_count          1971 non-null int64\n",
      "dtypes: int64(4)\n",
      "memory usage: 61.7 KB\n"
     ]
    }
   ],
   "source": [
    "api_df_clean.info()"
   ]
  },
  {
   "cell_type": "code",
   "execution_count": 95,
   "metadata": {},
   "outputs": [
    {
     "data": {
      "text/html": [
       "<div>\n",
       "<style scoped>\n",
       "    .dataframe tbody tr th:only-of-type {\n",
       "        vertical-align: middle;\n",
       "    }\n",
       "\n",
       "    .dataframe tbody tr th {\n",
       "        vertical-align: top;\n",
       "    }\n",
       "\n",
       "    .dataframe thead th {\n",
       "        text-align: right;\n",
       "    }\n",
       "</style>\n",
       "<table border=\"1\" class=\"dataframe\">\n",
       "  <thead>\n",
       "    <tr style=\"text-align: right;\">\n",
       "      <th></th>\n",
       "      <th>tweet_id</th>\n",
       "      <th>jpg_url</th>\n",
       "      <th>img_num</th>\n",
       "      <th>prediction_1</th>\n",
       "      <th>confidence_1</th>\n",
       "      <th>breed_1</th>\n",
       "      <th>prediction_2</th>\n",
       "      <th>confidence_2</th>\n",
       "      <th>breed_2</th>\n",
       "      <th>prediction_3</th>\n",
       "      <th>confidence_3</th>\n",
       "      <th>breed_3</th>\n",
       "    </tr>\n",
       "  </thead>\n",
       "  <tbody>\n",
       "    <tr>\n",
       "      <th>0</th>\n",
       "      <td>666020888022790149</td>\n",
       "      <td>https://pbs.twimg.com/media/CT4udn0WwAA0aMy.jpg</td>\n",
       "      <td>1</td>\n",
       "      <td>Welsh_springer_spaniel</td>\n",
       "      <td>0.465074</td>\n",
       "      <td>True</td>\n",
       "      <td>collie</td>\n",
       "      <td>0.156665</td>\n",
       "      <td>True</td>\n",
       "      <td>Shetland_sheepdog</td>\n",
       "      <td>0.061428</td>\n",
       "      <td>True</td>\n",
       "    </tr>\n",
       "    <tr>\n",
       "      <th>1</th>\n",
       "      <td>666029285002620928</td>\n",
       "      <td>https://pbs.twimg.com/media/CT42GRgUYAA5iDo.jpg</td>\n",
       "      <td>1</td>\n",
       "      <td>redbone</td>\n",
       "      <td>0.506826</td>\n",
       "      <td>True</td>\n",
       "      <td>miniature_pinscher</td>\n",
       "      <td>0.074192</td>\n",
       "      <td>True</td>\n",
       "      <td>Rhodesian_ridgeback</td>\n",
       "      <td>0.072010</td>\n",
       "      <td>True</td>\n",
       "    </tr>\n",
       "    <tr>\n",
       "      <th>2</th>\n",
       "      <td>666033412701032449</td>\n",
       "      <td>https://pbs.twimg.com/media/CT4521TWwAEvMyu.jpg</td>\n",
       "      <td>1</td>\n",
       "      <td>German_shepherd</td>\n",
       "      <td>0.596461</td>\n",
       "      <td>True</td>\n",
       "      <td>malinois</td>\n",
       "      <td>0.138584</td>\n",
       "      <td>True</td>\n",
       "      <td>bloodhound</td>\n",
       "      <td>0.116197</td>\n",
       "      <td>True</td>\n",
       "    </tr>\n",
       "    <tr>\n",
       "      <th>3</th>\n",
       "      <td>666044226329800704</td>\n",
       "      <td>https://pbs.twimg.com/media/CT5Dr8HUEAA-lEu.jpg</td>\n",
       "      <td>1</td>\n",
       "      <td>Rhodesian_ridgeback</td>\n",
       "      <td>0.408143</td>\n",
       "      <td>True</td>\n",
       "      <td>redbone</td>\n",
       "      <td>0.360687</td>\n",
       "      <td>True</td>\n",
       "      <td>miniature_pinscher</td>\n",
       "      <td>0.222752</td>\n",
       "      <td>True</td>\n",
       "    </tr>\n",
       "    <tr>\n",
       "      <th>4</th>\n",
       "      <td>666049248165822465</td>\n",
       "      <td>https://pbs.twimg.com/media/CT5IQmsXIAAKY4A.jpg</td>\n",
       "      <td>1</td>\n",
       "      <td>miniature_pinscher</td>\n",
       "      <td>0.560311</td>\n",
       "      <td>True</td>\n",
       "      <td>Rottweiler</td>\n",
       "      <td>0.243682</td>\n",
       "      <td>True</td>\n",
       "      <td>Doberman</td>\n",
       "      <td>0.154629</td>\n",
       "      <td>True</td>\n",
       "    </tr>\n",
       "    <tr>\n",
       "      <th>5</th>\n",
       "      <td>666050758794694657</td>\n",
       "      <td>https://pbs.twimg.com/media/CT5Jof1WUAEuVxN.jpg</td>\n",
       "      <td>1</td>\n",
       "      <td>Bernese_mountain_dog</td>\n",
       "      <td>0.651137</td>\n",
       "      <td>True</td>\n",
       "      <td>English_springer</td>\n",
       "      <td>0.263788</td>\n",
       "      <td>True</td>\n",
       "      <td>Greater_Swiss_Mountain_dog</td>\n",
       "      <td>0.016199</td>\n",
       "      <td>True</td>\n",
       "    </tr>\n",
       "    <tr>\n",
       "      <th>6</th>\n",
       "      <td>666051853826850816</td>\n",
       "      <td>https://pbs.twimg.com/media/CT5KoJ1WoAAJash.jpg</td>\n",
       "      <td>1</td>\n",
       "      <td>box_turtle</td>\n",
       "      <td>0.933012</td>\n",
       "      <td>False</td>\n",
       "      <td>mud_turtle</td>\n",
       "      <td>0.045885</td>\n",
       "      <td>False</td>\n",
       "      <td>terrapin</td>\n",
       "      <td>0.017885</td>\n",
       "      <td>False</td>\n",
       "    </tr>\n",
       "    <tr>\n",
       "      <th>7</th>\n",
       "      <td>666055525042405380</td>\n",
       "      <td>https://pbs.twimg.com/media/CT5N9tpXIAAifs1.jpg</td>\n",
       "      <td>1</td>\n",
       "      <td>chow</td>\n",
       "      <td>0.692517</td>\n",
       "      <td>True</td>\n",
       "      <td>Tibetan_mastiff</td>\n",
       "      <td>0.058279</td>\n",
       "      <td>True</td>\n",
       "      <td>fur_coat</td>\n",
       "      <td>0.054449</td>\n",
       "      <td>False</td>\n",
       "    </tr>\n",
       "    <tr>\n",
       "      <th>8</th>\n",
       "      <td>666057090499244032</td>\n",
       "      <td>https://pbs.twimg.com/media/CT5PY90WoAAQGLo.jpg</td>\n",
       "      <td>1</td>\n",
       "      <td>shopping_cart</td>\n",
       "      <td>0.962465</td>\n",
       "      <td>False</td>\n",
       "      <td>shopping_basket</td>\n",
       "      <td>0.014594</td>\n",
       "      <td>False</td>\n",
       "      <td>golden_retriever</td>\n",
       "      <td>0.007959</td>\n",
       "      <td>True</td>\n",
       "    </tr>\n",
       "    <tr>\n",
       "      <th>9</th>\n",
       "      <td>666058600524156928</td>\n",
       "      <td>https://pbs.twimg.com/media/CT5Qw94XAAA_2dP.jpg</td>\n",
       "      <td>1</td>\n",
       "      <td>miniature_poodle</td>\n",
       "      <td>0.201493</td>\n",
       "      <td>True</td>\n",
       "      <td>komondor</td>\n",
       "      <td>0.192305</td>\n",
       "      <td>True</td>\n",
       "      <td>soft-coated_wheaten_terrier</td>\n",
       "      <td>0.082086</td>\n",
       "      <td>True</td>\n",
       "    </tr>\n",
       "  </tbody>\n",
       "</table>\n",
       "</div>"
      ],
      "text/plain": [
       "             tweet_id                                          jpg_url  \\\n",
       "0  666020888022790149  https://pbs.twimg.com/media/CT4udn0WwAA0aMy.jpg   \n",
       "1  666029285002620928  https://pbs.twimg.com/media/CT42GRgUYAA5iDo.jpg   \n",
       "2  666033412701032449  https://pbs.twimg.com/media/CT4521TWwAEvMyu.jpg   \n",
       "3  666044226329800704  https://pbs.twimg.com/media/CT5Dr8HUEAA-lEu.jpg   \n",
       "4  666049248165822465  https://pbs.twimg.com/media/CT5IQmsXIAAKY4A.jpg   \n",
       "5  666050758794694657  https://pbs.twimg.com/media/CT5Jof1WUAEuVxN.jpg   \n",
       "6  666051853826850816  https://pbs.twimg.com/media/CT5KoJ1WoAAJash.jpg   \n",
       "7  666055525042405380  https://pbs.twimg.com/media/CT5N9tpXIAAifs1.jpg   \n",
       "8  666057090499244032  https://pbs.twimg.com/media/CT5PY90WoAAQGLo.jpg   \n",
       "9  666058600524156928  https://pbs.twimg.com/media/CT5Qw94XAAA_2dP.jpg   \n",
       "\n",
       "   img_num            prediction_1  confidence_1  breed_1        prediction_2  \\\n",
       "0        1  Welsh_springer_spaniel      0.465074     True              collie   \n",
       "1        1                 redbone      0.506826     True  miniature_pinscher   \n",
       "2        1         German_shepherd      0.596461     True            malinois   \n",
       "3        1     Rhodesian_ridgeback      0.408143     True             redbone   \n",
       "4        1      miniature_pinscher      0.560311     True          Rottweiler   \n",
       "5        1    Bernese_mountain_dog      0.651137     True    English_springer   \n",
       "6        1              box_turtle      0.933012    False          mud_turtle   \n",
       "7        1                    chow      0.692517     True     Tibetan_mastiff   \n",
       "8        1           shopping_cart      0.962465    False     shopping_basket   \n",
       "9        1        miniature_poodle      0.201493     True            komondor   \n",
       "\n",
       "   confidence_2  breed_2                 prediction_3  confidence_3  breed_3  \n",
       "0      0.156665     True            Shetland_sheepdog      0.061428     True  \n",
       "1      0.074192     True          Rhodesian_ridgeback      0.072010     True  \n",
       "2      0.138584     True                   bloodhound      0.116197     True  \n",
       "3      0.360687     True           miniature_pinscher      0.222752     True  \n",
       "4      0.243682     True                     Doberman      0.154629     True  \n",
       "5      0.263788     True   Greater_Swiss_Mountain_dog      0.016199     True  \n",
       "6      0.045885    False                     terrapin      0.017885    False  \n",
       "7      0.058279     True                     fur_coat      0.054449    False  \n",
       "8      0.014594    False             golden_retriever      0.007959     True  \n",
       "9      0.192305     True  soft-coated_wheaten_terrier      0.082086     True  "
      ]
     },
     "execution_count": 95,
     "metadata": {},
     "output_type": "execute_result"
    }
   ],
   "source": [
    "image_df_clean.head(10)"
   ]
  },
  {
   "cell_type": "markdown",
   "metadata": {},
   "source": [
    "# Define"
   ]
  },
  {
   "cell_type": "markdown",
   "metadata": {},
   "source": [
    "Using wide_to_long to solve tidiness issue Column headers are values, not variable names.\n"
   ]
  },
  {
   "cell_type": "markdown",
   "metadata": {},
   "source": [
    "# Code"
   ]
  },
  {
   "cell_type": "code",
   "execution_count": 33,
   "metadata": {},
   "outputs": [],
   "source": [
    "cols = ['tweet_id', 'jpg_url', 'img_num', \n",
    "       'prediction_1', 'confidence_1', 'breed_1',\n",
    "       'prediction_2', 'confidence_2', 'breed_2',\n",
    "       'prediction_3', 'confidence_3', 'breed_3']"
   ]
  },
  {
   "cell_type": "code",
   "execution_count": 34,
   "metadata": {},
   "outputs": [],
   "source": [
    "image_df_clean.columns = cols\n"
   ]
  },
  {
   "cell_type": "code",
   "execution_count": 35,
   "metadata": {},
   "outputs": [],
   "source": [
    "image_df_clean = pd.wide_to_long(image_df_clean, stubnames=['prediction', 'confidence', 'breed'], \n",
    "    i=['tweet_id', 'jpg_url', 'img_num'], j='prediction_level', sep=\"_\").reset_index()"
   ]
  },
  {
   "cell_type": "markdown",
   "metadata": {},
   "source": [
    "# Test"
   ]
  },
  {
   "cell_type": "code",
   "execution_count": 60,
   "metadata": {},
   "outputs": [
    {
     "data": {
      "text/html": [
       "<div>\n",
       "<style scoped>\n",
       "    .dataframe tbody tr th:only-of-type {\n",
       "        vertical-align: middle;\n",
       "    }\n",
       "\n",
       "    .dataframe tbody tr th {\n",
       "        vertical-align: top;\n",
       "    }\n",
       "\n",
       "    .dataframe thead th {\n",
       "        text-align: right;\n",
       "    }\n",
       "</style>\n",
       "<table border=\"1\" class=\"dataframe\">\n",
       "  <thead>\n",
       "    <tr style=\"text-align: right;\">\n",
       "      <th></th>\n",
       "      <th>tweet_id</th>\n",
       "      <th>jpg_url</th>\n",
       "      <th>img_num</th>\n",
       "      <th>prediction_level</th>\n",
       "      <th>prediction</th>\n",
       "      <th>confidence</th>\n",
       "      <th>breed</th>\n",
       "    </tr>\n",
       "  </thead>\n",
       "  <tbody>\n",
       "    <tr>\n",
       "      <th>0</th>\n",
       "      <td>666020888022790149</td>\n",
       "      <td>https://pbs.twimg.com/media/CT4udn0WwAA0aMy.jpg</td>\n",
       "      <td>1</td>\n",
       "      <td>1</td>\n",
       "      <td>Welsh_springer_spaniel</td>\n",
       "      <td>0.465074</td>\n",
       "      <td>True</td>\n",
       "    </tr>\n",
       "    <tr>\n",
       "      <th>1</th>\n",
       "      <td>666020888022790149</td>\n",
       "      <td>https://pbs.twimg.com/media/CT4udn0WwAA0aMy.jpg</td>\n",
       "      <td>1</td>\n",
       "      <td>2</td>\n",
       "      <td>collie</td>\n",
       "      <td>0.156665</td>\n",
       "      <td>True</td>\n",
       "    </tr>\n",
       "    <tr>\n",
       "      <th>2</th>\n",
       "      <td>666020888022790149</td>\n",
       "      <td>https://pbs.twimg.com/media/CT4udn0WwAA0aMy.jpg</td>\n",
       "      <td>1</td>\n",
       "      <td>3</td>\n",
       "      <td>Shetland_sheepdog</td>\n",
       "      <td>0.061428</td>\n",
       "      <td>True</td>\n",
       "    </tr>\n",
       "    <tr>\n",
       "      <th>3</th>\n",
       "      <td>666029285002620928</td>\n",
       "      <td>https://pbs.twimg.com/media/CT42GRgUYAA5iDo.jpg</td>\n",
       "      <td>1</td>\n",
       "      <td>1</td>\n",
       "      <td>redbone</td>\n",
       "      <td>0.506826</td>\n",
       "      <td>True</td>\n",
       "    </tr>\n",
       "    <tr>\n",
       "      <th>4</th>\n",
       "      <td>666029285002620928</td>\n",
       "      <td>https://pbs.twimg.com/media/CT42GRgUYAA5iDo.jpg</td>\n",
       "      <td>1</td>\n",
       "      <td>2</td>\n",
       "      <td>miniature_pinscher</td>\n",
       "      <td>0.074192</td>\n",
       "      <td>True</td>\n",
       "    </tr>\n",
       "    <tr>\n",
       "      <th>5</th>\n",
       "      <td>666029285002620928</td>\n",
       "      <td>https://pbs.twimg.com/media/CT42GRgUYAA5iDo.jpg</td>\n",
       "      <td>1</td>\n",
       "      <td>3</td>\n",
       "      <td>Rhodesian_ridgeback</td>\n",
       "      <td>0.072010</td>\n",
       "      <td>True</td>\n",
       "    </tr>\n",
       "    <tr>\n",
       "      <th>6</th>\n",
       "      <td>666033412701032449</td>\n",
       "      <td>https://pbs.twimg.com/media/CT4521TWwAEvMyu.jpg</td>\n",
       "      <td>1</td>\n",
       "      <td>1</td>\n",
       "      <td>German_shepherd</td>\n",
       "      <td>0.596461</td>\n",
       "      <td>True</td>\n",
       "    </tr>\n",
       "    <tr>\n",
       "      <th>7</th>\n",
       "      <td>666033412701032449</td>\n",
       "      <td>https://pbs.twimg.com/media/CT4521TWwAEvMyu.jpg</td>\n",
       "      <td>1</td>\n",
       "      <td>2</td>\n",
       "      <td>malinois</td>\n",
       "      <td>0.138584</td>\n",
       "      <td>True</td>\n",
       "    </tr>\n",
       "    <tr>\n",
       "      <th>8</th>\n",
       "      <td>666033412701032449</td>\n",
       "      <td>https://pbs.twimg.com/media/CT4521TWwAEvMyu.jpg</td>\n",
       "      <td>1</td>\n",
       "      <td>3</td>\n",
       "      <td>bloodhound</td>\n",
       "      <td>0.116197</td>\n",
       "      <td>True</td>\n",
       "    </tr>\n",
       "    <tr>\n",
       "      <th>9</th>\n",
       "      <td>666044226329800704</td>\n",
       "      <td>https://pbs.twimg.com/media/CT5Dr8HUEAA-lEu.jpg</td>\n",
       "      <td>1</td>\n",
       "      <td>1</td>\n",
       "      <td>Rhodesian_ridgeback</td>\n",
       "      <td>0.408143</td>\n",
       "      <td>True</td>\n",
       "    </tr>\n",
       "    <tr>\n",
       "      <th>10</th>\n",
       "      <td>666044226329800704</td>\n",
       "      <td>https://pbs.twimg.com/media/CT5Dr8HUEAA-lEu.jpg</td>\n",
       "      <td>1</td>\n",
       "      <td>2</td>\n",
       "      <td>redbone</td>\n",
       "      <td>0.360687</td>\n",
       "      <td>True</td>\n",
       "    </tr>\n",
       "    <tr>\n",
       "      <th>11</th>\n",
       "      <td>666044226329800704</td>\n",
       "      <td>https://pbs.twimg.com/media/CT5Dr8HUEAA-lEu.jpg</td>\n",
       "      <td>1</td>\n",
       "      <td>3</td>\n",
       "      <td>miniature_pinscher</td>\n",
       "      <td>0.222752</td>\n",
       "      <td>True</td>\n",
       "    </tr>\n",
       "    <tr>\n",
       "      <th>12</th>\n",
       "      <td>666049248165822465</td>\n",
       "      <td>https://pbs.twimg.com/media/CT5IQmsXIAAKY4A.jpg</td>\n",
       "      <td>1</td>\n",
       "      <td>1</td>\n",
       "      <td>miniature_pinscher</td>\n",
       "      <td>0.560311</td>\n",
       "      <td>True</td>\n",
       "    </tr>\n",
       "    <tr>\n",
       "      <th>13</th>\n",
       "      <td>666049248165822465</td>\n",
       "      <td>https://pbs.twimg.com/media/CT5IQmsXIAAKY4A.jpg</td>\n",
       "      <td>1</td>\n",
       "      <td>2</td>\n",
       "      <td>Rottweiler</td>\n",
       "      <td>0.243682</td>\n",
       "      <td>True</td>\n",
       "    </tr>\n",
       "    <tr>\n",
       "      <th>14</th>\n",
       "      <td>666049248165822465</td>\n",
       "      <td>https://pbs.twimg.com/media/CT5IQmsXIAAKY4A.jpg</td>\n",
       "      <td>1</td>\n",
       "      <td>3</td>\n",
       "      <td>Doberman</td>\n",
       "      <td>0.154629</td>\n",
       "      <td>True</td>\n",
       "    </tr>\n",
       "  </tbody>\n",
       "</table>\n",
       "</div>"
      ],
      "text/plain": [
       "              tweet_id                                          jpg_url  \\\n",
       "0   666020888022790149  https://pbs.twimg.com/media/CT4udn0WwAA0aMy.jpg   \n",
       "1   666020888022790149  https://pbs.twimg.com/media/CT4udn0WwAA0aMy.jpg   \n",
       "2   666020888022790149  https://pbs.twimg.com/media/CT4udn0WwAA0aMy.jpg   \n",
       "3   666029285002620928  https://pbs.twimg.com/media/CT42GRgUYAA5iDo.jpg   \n",
       "4   666029285002620928  https://pbs.twimg.com/media/CT42GRgUYAA5iDo.jpg   \n",
       "5   666029285002620928  https://pbs.twimg.com/media/CT42GRgUYAA5iDo.jpg   \n",
       "6   666033412701032449  https://pbs.twimg.com/media/CT4521TWwAEvMyu.jpg   \n",
       "7   666033412701032449  https://pbs.twimg.com/media/CT4521TWwAEvMyu.jpg   \n",
       "8   666033412701032449  https://pbs.twimg.com/media/CT4521TWwAEvMyu.jpg   \n",
       "9   666044226329800704  https://pbs.twimg.com/media/CT5Dr8HUEAA-lEu.jpg   \n",
       "10  666044226329800704  https://pbs.twimg.com/media/CT5Dr8HUEAA-lEu.jpg   \n",
       "11  666044226329800704  https://pbs.twimg.com/media/CT5Dr8HUEAA-lEu.jpg   \n",
       "12  666049248165822465  https://pbs.twimg.com/media/CT5IQmsXIAAKY4A.jpg   \n",
       "13  666049248165822465  https://pbs.twimg.com/media/CT5IQmsXIAAKY4A.jpg   \n",
       "14  666049248165822465  https://pbs.twimg.com/media/CT5IQmsXIAAKY4A.jpg   \n",
       "\n",
       "    img_num  prediction_level              prediction  confidence  breed  \n",
       "0         1                 1  Welsh_springer_spaniel    0.465074   True  \n",
       "1         1                 2                  collie    0.156665   True  \n",
       "2         1                 3       Shetland_sheepdog    0.061428   True  \n",
       "3         1                 1                 redbone    0.506826   True  \n",
       "4         1                 2      miniature_pinscher    0.074192   True  \n",
       "5         1                 3     Rhodesian_ridgeback    0.072010   True  \n",
       "6         1                 1         German_shepherd    0.596461   True  \n",
       "7         1                 2                malinois    0.138584   True  \n",
       "8         1                 3              bloodhound    0.116197   True  \n",
       "9         1                 1     Rhodesian_ridgeback    0.408143   True  \n",
       "10        1                 2                 redbone    0.360687   True  \n",
       "11        1                 3      miniature_pinscher    0.222752   True  \n",
       "12        1                 1      miniature_pinscher    0.560311   True  \n",
       "13        1                 2              Rottweiler    0.243682   True  \n",
       "14        1                 3                Doberman    0.154629   True  "
      ]
     },
     "execution_count": 60,
     "metadata": {},
     "output_type": "execute_result"
    }
   ],
   "source": [
    "image_df_clean.head(15)"
   ]
  },
  {
   "cell_type": "code",
   "execution_count": 56,
   "metadata": {},
   "outputs": [
    {
     "name": "stdout",
     "output_type": "stream",
     "text": [
      "<class 'pandas.core.frame.DataFrame'>\n",
      "RangeIndex: 1971 entries, 0 to 1970\n",
      "Data columns (total 4 columns):\n",
      "tweet_id            1971 non-null int64\n",
      "retweet_count       1971 non-null int64\n",
      "favourites_count    1971 non-null int64\n",
      "user_count          1971 non-null int64\n",
      "dtypes: int64(4)\n",
      "memory usage: 61.7 KB\n"
     ]
    }
   ],
   "source": [
    "api_df_clean.info()"
   ]
  },
  {
   "cell_type": "code",
   "execution_count": 76,
   "metadata": {},
   "outputs": [
    {
     "data": {
      "text/html": [
       "<div>\n",
       "<style scoped>\n",
       "    .dataframe tbody tr th:only-of-type {\n",
       "        vertical-align: middle;\n",
       "    }\n",
       "\n",
       "    .dataframe tbody tr th {\n",
       "        vertical-align: top;\n",
       "    }\n",
       "\n",
       "    .dataframe thead th {\n",
       "        text-align: right;\n",
       "    }\n",
       "</style>\n",
       "<table border=\"1\" class=\"dataframe\">\n",
       "  <thead>\n",
       "    <tr style=\"text-align: right;\">\n",
       "      <th></th>\n",
       "      <th>tweet_id</th>\n",
       "      <th>timestamp</th>\n",
       "      <th>source</th>\n",
       "      <th>text</th>\n",
       "      <th>expanded_urls</th>\n",
       "      <th>rating_numerator</th>\n",
       "      <th>rating_denominator</th>\n",
       "      <th>name</th>\n",
       "      <th>dog_breed</th>\n",
       "      <th>rating_numerator2</th>\n",
       "    </tr>\n",
       "  </thead>\n",
       "  <tbody>\n",
       "    <tr>\n",
       "      <th>224</th>\n",
       "      <td>836677758902222849</td>\n",
       "      <td>2017-02-28 20:41:37</td>\n",
       "      <td>&lt;a href=\"http://twitter.com/download/iphone\" r...</td>\n",
       "      <td>Say hello to Oliver. He's pretty exotic. Fairl...</td>\n",
       "      <td>https://twitter.com/dog_rates/status/836677758...</td>\n",
       "      <td>11.0</td>\n",
       "      <td>10</td>\n",
       "      <td>Oliver</td>\n",
       "      <td>NaN</td>\n",
       "      <td>11.0</td>\n",
       "    </tr>\n",
       "    <tr>\n",
       "      <th>1452</th>\n",
       "      <td>676776431406465024</td>\n",
       "      <td>2015-12-15 14:50:49</td>\n",
       "      <td>&lt;a href=\"http://twitter.com/download/iphone\" r...</td>\n",
       "      <td>When someone yells \"cops!\" at a party and you ...</td>\n",
       "      <td>https://twitter.com/dog_rates/status/676776431...</td>\n",
       "      <td>10.0</td>\n",
       "      <td>10</td>\n",
       "      <td></td>\n",
       "      <td>NaN</td>\n",
       "      <td>10.0</td>\n",
       "    </tr>\n",
       "    <tr>\n",
       "      <th>156</th>\n",
       "      <td>852912242202992640</td>\n",
       "      <td>2017-04-14 15:51:39</td>\n",
       "      <td>&lt;a href=\"http://twitter.com/download/iphone\" r...</td>\n",
       "      <td>Meet Benny. He likes being adorable and making...</td>\n",
       "      <td>https://www.gofundme.com/bennys-medical-bills,...</td>\n",
       "      <td>12.0</td>\n",
       "      <td>10</td>\n",
       "      <td>Benny</td>\n",
       "      <td>NaN</td>\n",
       "      <td>12.0</td>\n",
       "    </tr>\n",
       "    <tr>\n",
       "      <th>1705</th>\n",
       "      <td>670811965569282048</td>\n",
       "      <td>2015-11-29 03:50:10</td>\n",
       "      <td>&lt;a href=\"http://twitter.com/download/iphone\" r...</td>\n",
       "      <td>Meet Maggie. She enjoys her stick in the yard....</td>\n",
       "      <td>https://twitter.com/dog_rates/status/670811965...</td>\n",
       "      <td>10.0</td>\n",
       "      <td>10</td>\n",
       "      <td>Maggie</td>\n",
       "      <td>NaN</td>\n",
       "      <td>10.0</td>\n",
       "    </tr>\n",
       "    <tr>\n",
       "      <th>652</th>\n",
       "      <td>759099523532779520</td>\n",
       "      <td>2016-07-29 18:53:24</td>\n",
       "      <td>&lt;a href=\"http://twitter.com/download/iphone\" r...</td>\n",
       "      <td>Meet Toby. He has a drinking problem. Inflatab...</td>\n",
       "      <td>https://twitter.com/dog_rates/status/759099523...</td>\n",
       "      <td>7.0</td>\n",
       "      <td>10</td>\n",
       "      <td>Toby</td>\n",
       "      <td>NaN</td>\n",
       "      <td>7.0</td>\n",
       "    </tr>\n",
       "    <tr>\n",
       "      <th>53</th>\n",
       "      <td>880465832366813184</td>\n",
       "      <td>2017-06-29 16:39:47</td>\n",
       "      <td>&lt;a href=\"http://twitter.com/download/iphone\" r...</td>\n",
       "      <td>This is Bella. She had her first beach experie...</td>\n",
       "      <td>https://twitter.com/dog_rates/status/880465832...</td>\n",
       "      <td>12.0</td>\n",
       "      <td>10</td>\n",
       "      <td>Bella</td>\n",
       "      <td>NaN</td>\n",
       "      <td>12.0</td>\n",
       "    </tr>\n",
       "    <tr>\n",
       "      <th>1539</th>\n",
       "      <td>674394782723014656</td>\n",
       "      <td>2015-12-09 01:07:00</td>\n",
       "      <td>&lt;a href=\"http://twitter.com/download/iphone\" r...</td>\n",
       "      <td>This is Gary. He's a hide and seek champion. S...</td>\n",
       "      <td>https://twitter.com/dog_rates/status/674394782...</td>\n",
       "      <td>8.0</td>\n",
       "      <td>10</td>\n",
       "      <td>Gary</td>\n",
       "      <td>NaN</td>\n",
       "      <td>8.0</td>\n",
       "    </tr>\n",
       "    <tr>\n",
       "      <th>1652</th>\n",
       "      <td>671866342182637568</td>\n",
       "      <td>2015-12-02 01:39:53</td>\n",
       "      <td>&lt;a href=\"http://twitter.com/download/iphone\" r...</td>\n",
       "      <td>Meet Dylan. He can use a fork but clearly can'...</td>\n",
       "      <td>https://twitter.com/dog_rates/status/671866342...</td>\n",
       "      <td>10.0</td>\n",
       "      <td>10</td>\n",
       "      <td>Dylan</td>\n",
       "      <td>NaN</td>\n",
       "      <td>10.0</td>\n",
       "    </tr>\n",
       "    <tr>\n",
       "      <th>1933</th>\n",
       "      <td>666454714377183233</td>\n",
       "      <td>2015-11-17 03:16:00</td>\n",
       "      <td>&lt;a href=\"http://twitter.com/download/iphone\" r...</td>\n",
       "      <td>I'll name the dogs from now on. This is Kreggo...</td>\n",
       "      <td>https://twitter.com/dog_rates/status/666454714...</td>\n",
       "      <td>10.0</td>\n",
       "      <td>10</td>\n",
       "      <td>Kreggory</td>\n",
       "      <td>NaN</td>\n",
       "      <td>10.0</td>\n",
       "    </tr>\n",
       "    <tr>\n",
       "      <th>1278</th>\n",
       "      <td>684926975086034944</td>\n",
       "      <td>2016-01-07 02:38:10</td>\n",
       "      <td>&lt;a href=\"http://twitter.com/download/iphone\" r...</td>\n",
       "      <td>Meet Bruiser &amp;amp; Charlie. They are the best ...</td>\n",
       "      <td>https://twitter.com/dog_rates/status/684926975...</td>\n",
       "      <td>11.0</td>\n",
       "      <td>10</td>\n",
       "      <td>Bruiser</td>\n",
       "      <td>NaN</td>\n",
       "      <td>11.0</td>\n",
       "    </tr>\n",
       "    <tr>\n",
       "      <th>1733</th>\n",
       "      <td>670442337873600512</td>\n",
       "      <td>2015-11-28 03:21:24</td>\n",
       "      <td>&lt;a href=\"http://twitter.com/download/iphone\" r...</td>\n",
       "      <td>Meet Koda. He's large. Looks very soft. Great ...</td>\n",
       "      <td>https://twitter.com/dog_rates/status/670442337...</td>\n",
       "      <td>11.0</td>\n",
       "      <td>10</td>\n",
       "      <td>Koda</td>\n",
       "      <td>NaN</td>\n",
       "      <td>11.0</td>\n",
       "    </tr>\n",
       "    <tr>\n",
       "      <th>1895</th>\n",
       "      <td>667405339315146752</td>\n",
       "      <td>2015-11-19 18:13:27</td>\n",
       "      <td>&lt;a href=\"http://twitter.com/download/iphone\" r...</td>\n",
       "      <td>This is Biden. Biden just tripped... 7/10 http...</td>\n",
       "      <td>https://twitter.com/dog_rates/status/667405339...</td>\n",
       "      <td>7.0</td>\n",
       "      <td>10</td>\n",
       "      <td>Biden</td>\n",
       "      <td>NaN</td>\n",
       "      <td>7.0</td>\n",
       "    </tr>\n",
       "    <tr>\n",
       "      <th>754</th>\n",
       "      <td>746726898085036033</td>\n",
       "      <td>2016-06-25 15:29:00</td>\n",
       "      <td>&lt;a href=\"http://twitter.com/download/iphone\" r...</td>\n",
       "      <td>Meet Abby. She's incredibly distracting. Just ...</td>\n",
       "      <td>https://twitter.com/dog_rates/status/746726898...</td>\n",
       "      <td>12.0</td>\n",
       "      <td>10</td>\n",
       "      <td>Abby</td>\n",
       "      <td>NaN</td>\n",
       "      <td>12.0</td>\n",
       "    </tr>\n",
       "    <tr>\n",
       "      <th>798</th>\n",
       "      <td>739979191639244800</td>\n",
       "      <td>2016-06-07 00:36:02</td>\n",
       "      <td>&lt;a href=\"http://twitter.com/download/iphone\" r...</td>\n",
       "      <td>This is Nollie. She's waving at you. If you do...</td>\n",
       "      <td>https://twitter.com/dog_rates/status/739979191...</td>\n",
       "      <td>12.0</td>\n",
       "      <td>10</td>\n",
       "      <td>Nollie</td>\n",
       "      <td>NaN</td>\n",
       "      <td>12.0</td>\n",
       "    </tr>\n",
       "    <tr>\n",
       "      <th>114</th>\n",
       "      <td>864279568663928832</td>\n",
       "      <td>2017-05-16 00:41:21</td>\n",
       "      <td>&lt;a href=\"http://twitter.com/download/iphone\" r...</td>\n",
       "      <td>This is Meatball. He doing what's known in the...</td>\n",
       "      <td>https://twitter.com/dog_rates/status/864279568...</td>\n",
       "      <td>12.0</td>\n",
       "      <td>10</td>\n",
       "      <td>Meatball</td>\n",
       "      <td>NaN</td>\n",
       "      <td>12.0</td>\n",
       "    </tr>\n",
       "    <tr>\n",
       "      <th>411</th>\n",
       "      <td>803380650405482500</td>\n",
       "      <td>2016-11-28 23:30:47</td>\n",
       "      <td>&lt;a href=\"http://twitter.com/download/iphone\" r...</td>\n",
       "      <td>Meet Sonny. He's an in-home movie critic. That...</td>\n",
       "      <td>https://twitter.com/dog_rates/status/803380650...</td>\n",
       "      <td>12.0</td>\n",
       "      <td>10</td>\n",
       "      <td>Sonny</td>\n",
       "      <td>NaN</td>\n",
       "      <td>12.0</td>\n",
       "    </tr>\n",
       "    <tr>\n",
       "      <th>1954</th>\n",
       "      <td>666102155909144576</td>\n",
       "      <td>2015-11-16 03:55:04</td>\n",
       "      <td>&lt;a href=\"http://twitter.com/download/iphone\" r...</td>\n",
       "      <td>Oh my. Here you are seeing an Adobe Setter giv...</td>\n",
       "      <td>https://twitter.com/dog_rates/status/666102155...</td>\n",
       "      <td>11.0</td>\n",
       "      <td>10</td>\n",
       "      <td></td>\n",
       "      <td>NaN</td>\n",
       "      <td>11.0</td>\n",
       "    </tr>\n",
       "    <tr>\n",
       "      <th>126</th>\n",
       "      <td>861005113778896900</td>\n",
       "      <td>2017-05-06 23:49:50</td>\n",
       "      <td>&lt;a href=\"http://twitter.com/download/iphone\" r...</td>\n",
       "      <td>This is Burt. He thinks your thesis statement ...</td>\n",
       "      <td>https://twitter.com/dog_rates/status/861005113...</td>\n",
       "      <td>12.0</td>\n",
       "      <td>10</td>\n",
       "      <td>Burt</td>\n",
       "      <td>NaN</td>\n",
       "      <td>12.0</td>\n",
       "    </tr>\n",
       "    <tr>\n",
       "      <th>262</th>\n",
       "      <td>830583320585068544</td>\n",
       "      <td>2017-02-12 01:04:29</td>\n",
       "      <td>&lt;a href=\"http://twitter.com/download/iphone\" r...</td>\n",
       "      <td>This is Lilly. She just parallel barked. Kindl...</td>\n",
       "      <td>https://twitter.com/dog_rates/status/830583320...</td>\n",
       "      <td>13.0</td>\n",
       "      <td>10</td>\n",
       "      <td>Lilly</td>\n",
       "      <td>NaN</td>\n",
       "      <td>13.0</td>\n",
       "    </tr>\n",
       "    <tr>\n",
       "      <th>247</th>\n",
       "      <td>832636094638288896</td>\n",
       "      <td>2017-02-17 17:01:29</td>\n",
       "      <td>&lt;a href=\"http://twitter.com/download/iphone\" r...</td>\n",
       "      <td>This is Orion. He just got back from the denti...</td>\n",
       "      <td>https://twitter.com/dog_rates/status/832636094...</td>\n",
       "      <td>12.0</td>\n",
       "      <td>10</td>\n",
       "      <td>Orion</td>\n",
       "      <td>NaN</td>\n",
       "      <td>12.0</td>\n",
       "    </tr>\n",
       "  </tbody>\n",
       "</table>\n",
       "</div>"
      ],
      "text/plain": [
       "                tweet_id           timestamp  \\\n",
       "224   836677758902222849 2017-02-28 20:41:37   \n",
       "1452  676776431406465024 2015-12-15 14:50:49   \n",
       "156   852912242202992640 2017-04-14 15:51:39   \n",
       "1705  670811965569282048 2015-11-29 03:50:10   \n",
       "652   759099523532779520 2016-07-29 18:53:24   \n",
       "53    880465832366813184 2017-06-29 16:39:47   \n",
       "1539  674394782723014656 2015-12-09 01:07:00   \n",
       "1652  671866342182637568 2015-12-02 01:39:53   \n",
       "1933  666454714377183233 2015-11-17 03:16:00   \n",
       "1278  684926975086034944 2016-01-07 02:38:10   \n",
       "1733  670442337873600512 2015-11-28 03:21:24   \n",
       "1895  667405339315146752 2015-11-19 18:13:27   \n",
       "754   746726898085036033 2016-06-25 15:29:00   \n",
       "798   739979191639244800 2016-06-07 00:36:02   \n",
       "114   864279568663928832 2017-05-16 00:41:21   \n",
       "411   803380650405482500 2016-11-28 23:30:47   \n",
       "1954  666102155909144576 2015-11-16 03:55:04   \n",
       "126   861005113778896900 2017-05-06 23:49:50   \n",
       "262   830583320585068544 2017-02-12 01:04:29   \n",
       "247   832636094638288896 2017-02-17 17:01:29   \n",
       "\n",
       "                                                 source  \\\n",
       "224   <a href=\"http://twitter.com/download/iphone\" r...   \n",
       "1452  <a href=\"http://twitter.com/download/iphone\" r...   \n",
       "156   <a href=\"http://twitter.com/download/iphone\" r...   \n",
       "1705  <a href=\"http://twitter.com/download/iphone\" r...   \n",
       "652   <a href=\"http://twitter.com/download/iphone\" r...   \n",
       "53    <a href=\"http://twitter.com/download/iphone\" r...   \n",
       "1539  <a href=\"http://twitter.com/download/iphone\" r...   \n",
       "1652  <a href=\"http://twitter.com/download/iphone\" r...   \n",
       "1933  <a href=\"http://twitter.com/download/iphone\" r...   \n",
       "1278  <a href=\"http://twitter.com/download/iphone\" r...   \n",
       "1733  <a href=\"http://twitter.com/download/iphone\" r...   \n",
       "1895  <a href=\"http://twitter.com/download/iphone\" r...   \n",
       "754   <a href=\"http://twitter.com/download/iphone\" r...   \n",
       "798   <a href=\"http://twitter.com/download/iphone\" r...   \n",
       "114   <a href=\"http://twitter.com/download/iphone\" r...   \n",
       "411   <a href=\"http://twitter.com/download/iphone\" r...   \n",
       "1954  <a href=\"http://twitter.com/download/iphone\" r...   \n",
       "126   <a href=\"http://twitter.com/download/iphone\" r...   \n",
       "262   <a href=\"http://twitter.com/download/iphone\" r...   \n",
       "247   <a href=\"http://twitter.com/download/iphone\" r...   \n",
       "\n",
       "                                                   text  \\\n",
       "224   Say hello to Oliver. He's pretty exotic. Fairl...   \n",
       "1452  When someone yells \"cops!\" at a party and you ...   \n",
       "156   Meet Benny. He likes being adorable and making...   \n",
       "1705  Meet Maggie. She enjoys her stick in the yard....   \n",
       "652   Meet Toby. He has a drinking problem. Inflatab...   \n",
       "53    This is Bella. She had her first beach experie...   \n",
       "1539  This is Gary. He's a hide and seek champion. S...   \n",
       "1652  Meet Dylan. He can use a fork but clearly can'...   \n",
       "1933  I'll name the dogs from now on. This is Kreggo...   \n",
       "1278  Meet Bruiser &amp; Charlie. They are the best ...   \n",
       "1733  Meet Koda. He's large. Looks very soft. Great ...   \n",
       "1895  This is Biden. Biden just tripped... 7/10 http...   \n",
       "754   Meet Abby. She's incredibly distracting. Just ...   \n",
       "798   This is Nollie. She's waving at you. If you do...   \n",
       "114   This is Meatball. He doing what's known in the...   \n",
       "411   Meet Sonny. He's an in-home movie critic. That...   \n",
       "1954  Oh my. Here you are seeing an Adobe Setter giv...   \n",
       "126   This is Burt. He thinks your thesis statement ...   \n",
       "262   This is Lilly. She just parallel barked. Kindl...   \n",
       "247   This is Orion. He just got back from the denti...   \n",
       "\n",
       "                                          expanded_urls  rating_numerator  \\\n",
       "224   https://twitter.com/dog_rates/status/836677758...              11.0   \n",
       "1452  https://twitter.com/dog_rates/status/676776431...              10.0   \n",
       "156   https://www.gofundme.com/bennys-medical-bills,...              12.0   \n",
       "1705  https://twitter.com/dog_rates/status/670811965...              10.0   \n",
       "652   https://twitter.com/dog_rates/status/759099523...               7.0   \n",
       "53    https://twitter.com/dog_rates/status/880465832...              12.0   \n",
       "1539  https://twitter.com/dog_rates/status/674394782...               8.0   \n",
       "1652  https://twitter.com/dog_rates/status/671866342...              10.0   \n",
       "1933  https://twitter.com/dog_rates/status/666454714...              10.0   \n",
       "1278  https://twitter.com/dog_rates/status/684926975...              11.0   \n",
       "1733  https://twitter.com/dog_rates/status/670442337...              11.0   \n",
       "1895  https://twitter.com/dog_rates/status/667405339...               7.0   \n",
       "754   https://twitter.com/dog_rates/status/746726898...              12.0   \n",
       "798   https://twitter.com/dog_rates/status/739979191...              12.0   \n",
       "114   https://twitter.com/dog_rates/status/864279568...              12.0   \n",
       "411   https://twitter.com/dog_rates/status/803380650...              12.0   \n",
       "1954  https://twitter.com/dog_rates/status/666102155...              11.0   \n",
       "126   https://twitter.com/dog_rates/status/861005113...              12.0   \n",
       "262   https://twitter.com/dog_rates/status/830583320...              13.0   \n",
       "247   https://twitter.com/dog_rates/status/832636094...              12.0   \n",
       "\n",
       "      rating_denominator      name dog_breed  rating_numerator2  \n",
       "224                   10    Oliver       NaN               11.0  \n",
       "1452                  10                 NaN               10.0  \n",
       "156                   10     Benny       NaN               12.0  \n",
       "1705                  10    Maggie       NaN               10.0  \n",
       "652                   10      Toby       NaN                7.0  \n",
       "53                    10     Bella       NaN               12.0  \n",
       "1539                  10      Gary       NaN                8.0  \n",
       "1652                  10     Dylan       NaN               10.0  \n",
       "1933                  10  Kreggory       NaN               10.0  \n",
       "1278                  10   Bruiser       NaN               11.0  \n",
       "1733                  10      Koda       NaN               11.0  \n",
       "1895                  10     Biden       NaN                7.0  \n",
       "754                   10      Abby       NaN               12.0  \n",
       "798                   10    Nollie       NaN               12.0  \n",
       "114                   10  Meatball       NaN               12.0  \n",
       "411                   10     Sonny       NaN               12.0  \n",
       "1954                  10                 NaN               11.0  \n",
       "126                   10      Burt       NaN               12.0  \n",
       "262                   10     Lilly       NaN               13.0  \n",
       "247                   10     Orion       NaN               12.0  "
      ]
     },
     "execution_count": 76,
     "metadata": {},
     "output_type": "execute_result"
    }
   ],
   "source": [
    "archive_df_clean.sample(20)"
   ]
  },
  {
   "cell_type": "code",
   "execution_count": 102,
   "metadata": {},
   "outputs": [
    {
     "data": {
      "text/plain": [
       "count    1971.000000\n",
       "mean       12.178985\n",
       "std        41.607230\n",
       "min         0.000000\n",
       "25%        10.000000\n",
       "50%        11.000000\n",
       "75%        12.000000\n",
       "max      1776.000000\n",
       "Name: rating_numerator, dtype: float64"
      ]
     },
     "execution_count": 102,
     "metadata": {},
     "output_type": "execute_result"
    }
   ],
   "source": [
    "archive_df_clean['rating_numerator'].describe()"
   ]
  },
  {
   "cell_type": "code",
   "execution_count": 103,
   "metadata": {},
   "outputs": [
    {
     "data": {
      "text/plain": [
       "12.00      446\n",
       "10.00      417\n",
       "11.00      392\n",
       "13.00      253\n",
       "9.00       150\n",
       "8.00        95\n",
       "7.00        52\n",
       "14.00       33\n",
       "6.00        32\n",
       "5.00        32\n",
       "3.00        19\n",
       "4.00        16\n",
       "2.00         9\n",
       "1.00         5\n",
       "60.00        1\n",
       "24.00        1\n",
       "99.00        1\n",
       "1776.00      1\n",
       "13.50        1\n",
       "11.27        1\n",
       "165.00       1\n",
       "11.26        1\n",
       "0.00         1\n",
       "84.00        1\n",
       "9.75         1\n",
       "45.00        1\n",
       "88.00        1\n",
       "144.00       1\n",
       "44.00        1\n",
       "121.00       1\n",
       "204.00       1\n",
       "50.00        1\n",
       "80.00        1\n",
       "420.00       1\n",
       "Name: rating_numerator, dtype: int64"
      ]
     },
     "execution_count": 103,
     "metadata": {},
     "output_type": "execute_result"
    }
   ],
   "source": [
    "archive_df_clean['rating_numerator'].value_counts()"
   ]
  },
  {
   "cell_type": "markdown",
   "metadata": {},
   "source": [
    "# Define"
   ]
  },
  {
   "cell_type": "markdown",
   "metadata": {},
   "source": [
    "Using extract and float to be type float and also it should be correctly extracted rating_numerator"
   ]
  },
  {
   "cell_type": "markdown",
   "metadata": {},
   "source": [
    "# Code"
   ]
  },
  {
   "cell_type": "code",
   "execution_count": 36,
   "metadata": {},
   "outputs": [],
   "source": [
    "num_p = re.compile('(\\d+\\.?\\d?\\d?)\\/(\\d{1,3})')\n",
    "archive_df_clean['rating_numerator'] = archive_df_clean.text.str.extract('(\\d+\\.?\\d?\\d?)\\/\\d{1,3}', expand = False).astype('float')"
   ]
  },
  {
   "cell_type": "markdown",
   "metadata": {},
   "source": [
    "# Test"
   ]
  },
  {
   "cell_type": "code",
   "execution_count": 80,
   "metadata": {},
   "outputs": [
    {
     "name": "stdout",
     "output_type": "stream",
     "text": [
      "<class 'pandas.core.frame.DataFrame'>\n",
      "RangeIndex: 1971 entries, 0 to 1970\n",
      "Data columns (total 9 columns):\n",
      "tweet_id              1971 non-null int64\n",
      "timestamp             1971 non-null datetime64[ns]\n",
      "source                1971 non-null object\n",
      "text                  1971 non-null object\n",
      "expanded_urls         1971 non-null object\n",
      "rating_numerator      1971 non-null float64\n",
      "rating_denominator    1971 non-null int64\n",
      "name                  1971 non-null object\n",
      "dog_breed             303 non-null object\n",
      "dtypes: datetime64[ns](1), float64(1), int64(2), object(5)\n",
      "memory usage: 138.7+ KB\n"
     ]
    }
   ],
   "source": [
    "archive_df_clean.info()"
   ]
  },
  {
   "cell_type": "code",
   "execution_count": 85,
   "metadata": {},
   "outputs": [
    {
     "data": {
      "text/plain": [
       "1401    <a href=\"http://twitter.com/download/iphone\" r...\n",
       "1211    <a href=\"http://twitter.com/download/iphone\" r...\n",
       "1094    <a href=\"http://twitter.com/download/iphone\" r...\n",
       "1238    <a href=\"http://twitter.com/download/iphone\" r...\n",
       "1824    <a href=\"http://twitter.com/download/iphone\" r...\n",
       "246     <a href=\"http://twitter.com/download/iphone\" r...\n",
       "1563    <a href=\"http://twitter.com/download/iphone\" r...\n",
       "1060    <a href=\"http://twitter.com/download/iphone\" r...\n",
       "559     <a href=\"http://twitter.com/download/iphone\" r...\n",
       "895     <a href=\"http://twitter.com/download/iphone\" r...\n",
       "Name: source, dtype: object"
      ]
     },
     "execution_count": 85,
     "metadata": {},
     "output_type": "execute_result"
    }
   ],
   "source": [
    "archive_df_clean.source.sample(10)"
   ]
  },
  {
   "cell_type": "code",
   "execution_count": 104,
   "metadata": {},
   "outputs": [
    {
     "data": {
      "text/plain": [
       "count    1971.000000\n",
       "mean       12.178985\n",
       "std        41.607230\n",
       "min         0.000000\n",
       "25%        10.000000\n",
       "50%        11.000000\n",
       "75%        12.000000\n",
       "max      1776.000000\n",
       "Name: rating_numerator, dtype: float64"
      ]
     },
     "execution_count": 104,
     "metadata": {},
     "output_type": "execute_result"
    }
   ],
   "source": [
    "archive_df_clean['rating_numerator'].describe()"
   ]
  },
  {
   "cell_type": "markdown",
   "metadata": {},
   "source": [
    "# Define"
   ]
  },
  {
   "cell_type": "markdown",
   "metadata": {},
   "source": [
    "Use extract and regex to extract source "
   ]
  },
  {
   "cell_type": "markdown",
   "metadata": {},
   "source": [
    "# Code"
   ]
  },
  {
   "cell_type": "code",
   "execution_count": 37,
   "metadata": {},
   "outputs": [],
   "source": [
    "archive_df_clean['source'] = archive_df_clean['source'].str.extract('^<a.+>(.+)</a>$')\n"
   ]
  },
  {
   "cell_type": "markdown",
   "metadata": {},
   "source": [
    "# Test"
   ]
  },
  {
   "cell_type": "code",
   "execution_count": 92,
   "metadata": {},
   "outputs": [
    {
     "data": {
      "text/plain": [
       "Twitter for iPhone    1932\n",
       "Twitter Web Client      28\n",
       "TweetDeck               11\n",
       "Name: source, dtype: int64"
      ]
     },
     "execution_count": 92,
     "metadata": {},
     "output_type": "execute_result"
    }
   ],
   "source": [
    "archive_df_clean['source'].value_counts()"
   ]
  },
  {
   "cell_type": "markdown",
   "metadata": {},
   "source": [
    "# Define"
   ]
  },
  {
   "cell_type": "markdown",
   "metadata": {},
   "source": [
    "Using merge to joining archive_df_clean, api_df_clean in one table to solve tidiness issue A single observational unit is stored in multiple tables."
   ]
  },
  {
   "cell_type": "markdown",
   "metadata": {},
   "source": [
    "# Code"
   ]
  },
  {
   "cell_type": "code",
   "execution_count": 38,
   "metadata": {},
   "outputs": [],
   "source": [
    "df_merged = pd.merge(left = archive_df_clean,right = api_df_clean,how = \"inner\",on = \"tweet_id\")"
   ]
  },
  {
   "cell_type": "code",
   "execution_count": 40,
   "metadata": {},
   "outputs": [],
   "source": [
    "df_mergedd = pd.merge(left = df_merged,right = image_df_clean,how = \"inner\",on = \"tweet_id\")"
   ]
  },
  {
   "cell_type": "markdown",
   "metadata": {},
   "source": [
    "# Test"
   ]
  },
  {
   "cell_type": "code",
   "execution_count": 42,
   "metadata": {},
   "outputs": [
    {
     "name": "stdout",
     "output_type": "stream",
     "text": [
      "<class 'pandas.core.frame.DataFrame'>\n",
      "Int64Index: 5913 entries, 0 to 5912\n",
      "Data columns (total 18 columns):\n",
      "tweet_id              5913 non-null int64\n",
      "timestamp             5913 non-null datetime64[ns]\n",
      "source                5913 non-null object\n",
      "text                  5913 non-null object\n",
      "expanded_urls         5913 non-null object\n",
      "rating_numerator      5913 non-null float64\n",
      "rating_denominator    5913 non-null int64\n",
      "name                  5913 non-null object\n",
      "dog_breed             909 non-null object\n",
      "retweet_count         5913 non-null int64\n",
      "favourites_count      5913 non-null int64\n",
      "user_count            5913 non-null int64\n",
      "jpg_url               5913 non-null object\n",
      "img_num               5913 non-null int64\n",
      "prediction_level      5913 non-null int64\n",
      "prediction            5913 non-null object\n",
      "confidence            5913 non-null float64\n",
      "breed                 5913 non-null bool\n",
      "dtypes: bool(1), datetime64[ns](1), float64(2), int64(7), object(7)\n",
      "memory usage: 837.3+ KB\n"
     ]
    }
   ],
   "source": [
    "df_mergedd.info()"
   ]
  },
  {
   "cell_type": "code",
   "execution_count": 44,
   "metadata": {},
   "outputs": [
    {
     "data": {
      "text/html": [
       "<div>\n",
       "<style scoped>\n",
       "    .dataframe tbody tr th:only-of-type {\n",
       "        vertical-align: middle;\n",
       "    }\n",
       "\n",
       "    .dataframe tbody tr th {\n",
       "        vertical-align: top;\n",
       "    }\n",
       "\n",
       "    .dataframe thead th {\n",
       "        text-align: right;\n",
       "    }\n",
       "</style>\n",
       "<table border=\"1\" class=\"dataframe\">\n",
       "  <thead>\n",
       "    <tr style=\"text-align: right;\">\n",
       "      <th></th>\n",
       "      <th>tweet_id</th>\n",
       "      <th>timestamp</th>\n",
       "      <th>source</th>\n",
       "      <th>text</th>\n",
       "      <th>expanded_urls</th>\n",
       "      <th>rating_numerator</th>\n",
       "      <th>rating_denominator</th>\n",
       "      <th>name</th>\n",
       "      <th>dog_breed</th>\n",
       "      <th>retweet_count</th>\n",
       "      <th>favourites_count</th>\n",
       "      <th>user_count</th>\n",
       "      <th>jpg_url</th>\n",
       "      <th>img_num</th>\n",
       "      <th>prediction_level</th>\n",
       "      <th>prediction</th>\n",
       "      <th>confidence</th>\n",
       "      <th>breed</th>\n",
       "    </tr>\n",
       "  </thead>\n",
       "  <tbody>\n",
       "    <tr>\n",
       "      <th>0</th>\n",
       "      <td>892420643555336193</td>\n",
       "      <td>2017-08-01 16:23:56</td>\n",
       "      <td>Twitter for iPhone</td>\n",
       "      <td>This is Phineas. He's a mystical boy. Only eve...</td>\n",
       "      <td>https://twitter.com/dog_rates/status/892420643...</td>\n",
       "      <td>13.0</td>\n",
       "      <td>10</td>\n",
       "      <td>Phineas</td>\n",
       "      <td>NaN</td>\n",
       "      <td>8853</td>\n",
       "      <td>39467</td>\n",
       "      <td>3200889</td>\n",
       "      <td>https://pbs.twimg.com/media/DGKD1-bXoAAIAUK.jpg</td>\n",
       "      <td>1</td>\n",
       "      <td>1</td>\n",
       "      <td>orange</td>\n",
       "      <td>0.097049</td>\n",
       "      <td>False</td>\n",
       "    </tr>\n",
       "    <tr>\n",
       "      <th>1</th>\n",
       "      <td>892420643555336193</td>\n",
       "      <td>2017-08-01 16:23:56</td>\n",
       "      <td>Twitter for iPhone</td>\n",
       "      <td>This is Phineas. He's a mystical boy. Only eve...</td>\n",
       "      <td>https://twitter.com/dog_rates/status/892420643...</td>\n",
       "      <td>13.0</td>\n",
       "      <td>10</td>\n",
       "      <td>Phineas</td>\n",
       "      <td>NaN</td>\n",
       "      <td>8853</td>\n",
       "      <td>39467</td>\n",
       "      <td>3200889</td>\n",
       "      <td>https://pbs.twimg.com/media/DGKD1-bXoAAIAUK.jpg</td>\n",
       "      <td>1</td>\n",
       "      <td>2</td>\n",
       "      <td>bagel</td>\n",
       "      <td>0.085851</td>\n",
       "      <td>False</td>\n",
       "    </tr>\n",
       "    <tr>\n",
       "      <th>2</th>\n",
       "      <td>892420643555336193</td>\n",
       "      <td>2017-08-01 16:23:56</td>\n",
       "      <td>Twitter for iPhone</td>\n",
       "      <td>This is Phineas. He's a mystical boy. Only eve...</td>\n",
       "      <td>https://twitter.com/dog_rates/status/892420643...</td>\n",
       "      <td>13.0</td>\n",
       "      <td>10</td>\n",
       "      <td>Phineas</td>\n",
       "      <td>NaN</td>\n",
       "      <td>8853</td>\n",
       "      <td>39467</td>\n",
       "      <td>3200889</td>\n",
       "      <td>https://pbs.twimg.com/media/DGKD1-bXoAAIAUK.jpg</td>\n",
       "      <td>1</td>\n",
       "      <td>3</td>\n",
       "      <td>banana</td>\n",
       "      <td>0.076110</td>\n",
       "      <td>False</td>\n",
       "    </tr>\n",
       "    <tr>\n",
       "      <th>3</th>\n",
       "      <td>892177421306343426</td>\n",
       "      <td>2017-08-01 00:17:27</td>\n",
       "      <td>Twitter for iPhone</td>\n",
       "      <td>This is Tilly. She's just checking pup on you....</td>\n",
       "      <td>https://twitter.com/dog_rates/status/892177421...</td>\n",
       "      <td>13.0</td>\n",
       "      <td>10</td>\n",
       "      <td>Tilly</td>\n",
       "      <td>NaN</td>\n",
       "      <td>6514</td>\n",
       "      <td>33819</td>\n",
       "      <td>3200889</td>\n",
       "      <td>https://pbs.twimg.com/media/DGGmoV4XsAAUL6n.jpg</td>\n",
       "      <td>1</td>\n",
       "      <td>1</td>\n",
       "      <td>Chihuahua</td>\n",
       "      <td>0.323581</td>\n",
       "      <td>True</td>\n",
       "    </tr>\n",
       "    <tr>\n",
       "      <th>4</th>\n",
       "      <td>892177421306343426</td>\n",
       "      <td>2017-08-01 00:17:27</td>\n",
       "      <td>Twitter for iPhone</td>\n",
       "      <td>This is Tilly. She's just checking pup on you....</td>\n",
       "      <td>https://twitter.com/dog_rates/status/892177421...</td>\n",
       "      <td>13.0</td>\n",
       "      <td>10</td>\n",
       "      <td>Tilly</td>\n",
       "      <td>NaN</td>\n",
       "      <td>6514</td>\n",
       "      <td>33819</td>\n",
       "      <td>3200889</td>\n",
       "      <td>https://pbs.twimg.com/media/DGGmoV4XsAAUL6n.jpg</td>\n",
       "      <td>1</td>\n",
       "      <td>2</td>\n",
       "      <td>Pekinese</td>\n",
       "      <td>0.090647</td>\n",
       "      <td>True</td>\n",
       "    </tr>\n",
       "    <tr>\n",
       "      <th>5</th>\n",
       "      <td>892177421306343426</td>\n",
       "      <td>2017-08-01 00:17:27</td>\n",
       "      <td>Twitter for iPhone</td>\n",
       "      <td>This is Tilly. She's just checking pup on you....</td>\n",
       "      <td>https://twitter.com/dog_rates/status/892177421...</td>\n",
       "      <td>13.0</td>\n",
       "      <td>10</td>\n",
       "      <td>Tilly</td>\n",
       "      <td>NaN</td>\n",
       "      <td>6514</td>\n",
       "      <td>33819</td>\n",
       "      <td>3200889</td>\n",
       "      <td>https://pbs.twimg.com/media/DGGmoV4XsAAUL6n.jpg</td>\n",
       "      <td>1</td>\n",
       "      <td>3</td>\n",
       "      <td>papillon</td>\n",
       "      <td>0.068957</td>\n",
       "      <td>True</td>\n",
       "    </tr>\n",
       "    <tr>\n",
       "      <th>6</th>\n",
       "      <td>891815181378084864</td>\n",
       "      <td>2017-07-31 00:18:03</td>\n",
       "      <td>Twitter for iPhone</td>\n",
       "      <td>This is Archie. He is a rare Norwegian Pouncin...</td>\n",
       "      <td>https://twitter.com/dog_rates/status/891815181...</td>\n",
       "      <td>12.0</td>\n",
       "      <td>10</td>\n",
       "      <td>Archie</td>\n",
       "      <td>NaN</td>\n",
       "      <td>4328</td>\n",
       "      <td>25461</td>\n",
       "      <td>3200889</td>\n",
       "      <td>https://pbs.twimg.com/media/DGBdLU1WsAANxJ9.jpg</td>\n",
       "      <td>1</td>\n",
       "      <td>1</td>\n",
       "      <td>Chihuahua</td>\n",
       "      <td>0.716012</td>\n",
       "      <td>True</td>\n",
       "    </tr>\n",
       "    <tr>\n",
       "      <th>7</th>\n",
       "      <td>891815181378084864</td>\n",
       "      <td>2017-07-31 00:18:03</td>\n",
       "      <td>Twitter for iPhone</td>\n",
       "      <td>This is Archie. He is a rare Norwegian Pouncin...</td>\n",
       "      <td>https://twitter.com/dog_rates/status/891815181...</td>\n",
       "      <td>12.0</td>\n",
       "      <td>10</td>\n",
       "      <td>Archie</td>\n",
       "      <td>NaN</td>\n",
       "      <td>4328</td>\n",
       "      <td>25461</td>\n",
       "      <td>3200889</td>\n",
       "      <td>https://pbs.twimg.com/media/DGBdLU1WsAANxJ9.jpg</td>\n",
       "      <td>1</td>\n",
       "      <td>2</td>\n",
       "      <td>malamute</td>\n",
       "      <td>0.078253</td>\n",
       "      <td>True</td>\n",
       "    </tr>\n",
       "    <tr>\n",
       "      <th>8</th>\n",
       "      <td>891815181378084864</td>\n",
       "      <td>2017-07-31 00:18:03</td>\n",
       "      <td>Twitter for iPhone</td>\n",
       "      <td>This is Archie. He is a rare Norwegian Pouncin...</td>\n",
       "      <td>https://twitter.com/dog_rates/status/891815181...</td>\n",
       "      <td>12.0</td>\n",
       "      <td>10</td>\n",
       "      <td>Archie</td>\n",
       "      <td>NaN</td>\n",
       "      <td>4328</td>\n",
       "      <td>25461</td>\n",
       "      <td>3200889</td>\n",
       "      <td>https://pbs.twimg.com/media/DGBdLU1WsAANxJ9.jpg</td>\n",
       "      <td>1</td>\n",
       "      <td>3</td>\n",
       "      <td>kelpie</td>\n",
       "      <td>0.031379</td>\n",
       "      <td>True</td>\n",
       "    </tr>\n",
       "    <tr>\n",
       "      <th>9</th>\n",
       "      <td>891689557279858688</td>\n",
       "      <td>2017-07-30 15:58:51</td>\n",
       "      <td>Twitter for iPhone</td>\n",
       "      <td>This is Darla. She commenced a snooze mid meal...</td>\n",
       "      <td>https://twitter.com/dog_rates/status/891689557...</td>\n",
       "      <td>13.0</td>\n",
       "      <td>10</td>\n",
       "      <td>Darla</td>\n",
       "      <td>NaN</td>\n",
       "      <td>8964</td>\n",
       "      <td>42908</td>\n",
       "      <td>3200889</td>\n",
       "      <td>https://pbs.twimg.com/media/DF_q7IAWsAEuuN8.jpg</td>\n",
       "      <td>1</td>\n",
       "      <td>1</td>\n",
       "      <td>paper_towel</td>\n",
       "      <td>0.170278</td>\n",
       "      <td>False</td>\n",
       "    </tr>\n",
       "  </tbody>\n",
       "</table>\n",
       "</div>"
      ],
      "text/plain": [
       "             tweet_id           timestamp              source  \\\n",
       "0  892420643555336193 2017-08-01 16:23:56  Twitter for iPhone   \n",
       "1  892420643555336193 2017-08-01 16:23:56  Twitter for iPhone   \n",
       "2  892420643555336193 2017-08-01 16:23:56  Twitter for iPhone   \n",
       "3  892177421306343426 2017-08-01 00:17:27  Twitter for iPhone   \n",
       "4  892177421306343426 2017-08-01 00:17:27  Twitter for iPhone   \n",
       "5  892177421306343426 2017-08-01 00:17:27  Twitter for iPhone   \n",
       "6  891815181378084864 2017-07-31 00:18:03  Twitter for iPhone   \n",
       "7  891815181378084864 2017-07-31 00:18:03  Twitter for iPhone   \n",
       "8  891815181378084864 2017-07-31 00:18:03  Twitter for iPhone   \n",
       "9  891689557279858688 2017-07-30 15:58:51  Twitter for iPhone   \n",
       "\n",
       "                                                text  \\\n",
       "0  This is Phineas. He's a mystical boy. Only eve...   \n",
       "1  This is Phineas. He's a mystical boy. Only eve...   \n",
       "2  This is Phineas. He's a mystical boy. Only eve...   \n",
       "3  This is Tilly. She's just checking pup on you....   \n",
       "4  This is Tilly. She's just checking pup on you....   \n",
       "5  This is Tilly. She's just checking pup on you....   \n",
       "6  This is Archie. He is a rare Norwegian Pouncin...   \n",
       "7  This is Archie. He is a rare Norwegian Pouncin...   \n",
       "8  This is Archie. He is a rare Norwegian Pouncin...   \n",
       "9  This is Darla. She commenced a snooze mid meal...   \n",
       "\n",
       "                                       expanded_urls  rating_numerator  \\\n",
       "0  https://twitter.com/dog_rates/status/892420643...              13.0   \n",
       "1  https://twitter.com/dog_rates/status/892420643...              13.0   \n",
       "2  https://twitter.com/dog_rates/status/892420643...              13.0   \n",
       "3  https://twitter.com/dog_rates/status/892177421...              13.0   \n",
       "4  https://twitter.com/dog_rates/status/892177421...              13.0   \n",
       "5  https://twitter.com/dog_rates/status/892177421...              13.0   \n",
       "6  https://twitter.com/dog_rates/status/891815181...              12.0   \n",
       "7  https://twitter.com/dog_rates/status/891815181...              12.0   \n",
       "8  https://twitter.com/dog_rates/status/891815181...              12.0   \n",
       "9  https://twitter.com/dog_rates/status/891689557...              13.0   \n",
       "\n",
       "   rating_denominator     name dog_breed  retweet_count  favourites_count  \\\n",
       "0                  10  Phineas       NaN           8853             39467   \n",
       "1                  10  Phineas       NaN           8853             39467   \n",
       "2                  10  Phineas       NaN           8853             39467   \n",
       "3                  10    Tilly       NaN           6514             33819   \n",
       "4                  10    Tilly       NaN           6514             33819   \n",
       "5                  10    Tilly       NaN           6514             33819   \n",
       "6                  10   Archie       NaN           4328             25461   \n",
       "7                  10   Archie       NaN           4328             25461   \n",
       "8                  10   Archie       NaN           4328             25461   \n",
       "9                  10    Darla       NaN           8964             42908   \n",
       "\n",
       "   user_count                                          jpg_url  img_num  \\\n",
       "0     3200889  https://pbs.twimg.com/media/DGKD1-bXoAAIAUK.jpg        1   \n",
       "1     3200889  https://pbs.twimg.com/media/DGKD1-bXoAAIAUK.jpg        1   \n",
       "2     3200889  https://pbs.twimg.com/media/DGKD1-bXoAAIAUK.jpg        1   \n",
       "3     3200889  https://pbs.twimg.com/media/DGGmoV4XsAAUL6n.jpg        1   \n",
       "4     3200889  https://pbs.twimg.com/media/DGGmoV4XsAAUL6n.jpg        1   \n",
       "5     3200889  https://pbs.twimg.com/media/DGGmoV4XsAAUL6n.jpg        1   \n",
       "6     3200889  https://pbs.twimg.com/media/DGBdLU1WsAANxJ9.jpg        1   \n",
       "7     3200889  https://pbs.twimg.com/media/DGBdLU1WsAANxJ9.jpg        1   \n",
       "8     3200889  https://pbs.twimg.com/media/DGBdLU1WsAANxJ9.jpg        1   \n",
       "9     3200889  https://pbs.twimg.com/media/DF_q7IAWsAEuuN8.jpg        1   \n",
       "\n",
       "   prediction_level   prediction  confidence  breed  \n",
       "0                 1       orange    0.097049  False  \n",
       "1                 2        bagel    0.085851  False  \n",
       "2                 3       banana    0.076110  False  \n",
       "3                 1    Chihuahua    0.323581   True  \n",
       "4                 2     Pekinese    0.090647   True  \n",
       "5                 3     papillon    0.068957   True  \n",
       "6                 1    Chihuahua    0.716012   True  \n",
       "7                 2     malamute    0.078253   True  \n",
       "8                 3       kelpie    0.031379   True  \n",
       "9                 1  paper_towel    0.170278  False  "
      ]
     },
     "execution_count": 44,
     "metadata": {},
     "output_type": "execute_result"
    }
   ],
   "source": [
    "df_mergedd.head(10)"
   ]
  },
  {
   "cell_type": "markdown",
   "metadata": {},
   "source": [
    "# Store"
   ]
  },
  {
   "cell_type": "code",
   "execution_count": 45,
   "metadata": {},
   "outputs": [],
   "source": [
    "df_mergedd.to_csv('twitter_archive_master.csv', encoding='utf-8', index=False)\n"
   ]
  },
  {
   "cell_type": "code",
   "execution_count": 46,
   "metadata": {},
   "outputs": [],
   "source": [
    "twitter_archive_master = pd.read_csv('twitter_archive_master.csv')"
   ]
  },
  {
   "cell_type": "code",
   "execution_count": 47,
   "metadata": {},
   "outputs": [
    {
     "data": {
      "text/html": [
       "<div>\n",
       "<style scoped>\n",
       "    .dataframe tbody tr th:only-of-type {\n",
       "        vertical-align: middle;\n",
       "    }\n",
       "\n",
       "    .dataframe tbody tr th {\n",
       "        vertical-align: top;\n",
       "    }\n",
       "\n",
       "    .dataframe thead th {\n",
       "        text-align: right;\n",
       "    }\n",
       "</style>\n",
       "<table border=\"1\" class=\"dataframe\">\n",
       "  <thead>\n",
       "    <tr style=\"text-align: right;\">\n",
       "      <th></th>\n",
       "      <th>tweet_id</th>\n",
       "      <th>timestamp</th>\n",
       "      <th>source</th>\n",
       "      <th>text</th>\n",
       "      <th>expanded_urls</th>\n",
       "      <th>rating_numerator</th>\n",
       "      <th>rating_denominator</th>\n",
       "      <th>name</th>\n",
       "      <th>dog_breed</th>\n",
       "      <th>retweet_count</th>\n",
       "      <th>favourites_count</th>\n",
       "      <th>user_count</th>\n",
       "      <th>jpg_url</th>\n",
       "      <th>img_num</th>\n",
       "      <th>prediction_level</th>\n",
       "      <th>prediction</th>\n",
       "      <th>confidence</th>\n",
       "      <th>breed</th>\n",
       "    </tr>\n",
       "  </thead>\n",
       "  <tbody>\n",
       "    <tr>\n",
       "      <th>3630</th>\n",
       "      <td>689557536375177216</td>\n",
       "      <td>2016-01-19 21:18:22</td>\n",
       "      <td>Twitter for iPhone</td>\n",
       "      <td>Downright majestic af 12/10 https://t.co/WFh2F...</td>\n",
       "      <td>https://twitter.com/dog_rates/status/689557536...</td>\n",
       "      <td>12.0</td>\n",
       "      <td>10</td>\n",
       "      <td>NaN</td>\n",
       "      <td>NaN</td>\n",
       "      <td>519</td>\n",
       "      <td>2257</td>\n",
       "      <td>3200951</td>\n",
       "      <td>https://pbs.twimg.com/media/CZHM60BWIAA4AY4.jpg</td>\n",
       "      <td>1</td>\n",
       "      <td>1</td>\n",
       "      <td>Eskimo_dog</td>\n",
       "      <td>0.169482</td>\n",
       "      <td>True</td>\n",
       "    </tr>\n",
       "    <tr>\n",
       "      <th>433</th>\n",
       "      <td>856543823941562368</td>\n",
       "      <td>2017-04-24 16:22:16</td>\n",
       "      <td>Twitter for iPhone</td>\n",
       "      <td>This is Callie. She'll be your navigator today...</td>\n",
       "      <td>https://twitter.com/dog_rates/status/856543823...</td>\n",
       "      <td>12.0</td>\n",
       "      <td>10</td>\n",
       "      <td>Callie</td>\n",
       "      <td>NaN</td>\n",
       "      <td>3131</td>\n",
       "      <td>17135</td>\n",
       "      <td>3200891</td>\n",
       "      <td>https://pbs.twimg.com/media/C-MOEDCXYAEjp7o.jpg</td>\n",
       "      <td>1</td>\n",
       "      <td>2</td>\n",
       "      <td>Siamese_cat</td>\n",
       "      <td>0.191218</td>\n",
       "      <td>False</td>\n",
       "    </tr>\n",
       "    <tr>\n",
       "      <th>259</th>\n",
       "      <td>872122724285648897</td>\n",
       "      <td>2017-06-06 16:07:15</td>\n",
       "      <td>Twitter for iPhone</td>\n",
       "      <td>This is Kody. He's a baller. Wishes he was a l...</td>\n",
       "      <td>https://twitter.com/dog_rates/status/872122724...</td>\n",
       "      <td>12.0</td>\n",
       "      <td>10</td>\n",
       "      <td>Kody</td>\n",
       "      <td>NaN</td>\n",
       "      <td>8549</td>\n",
       "      <td>35324</td>\n",
       "      <td>3200891</td>\n",
       "      <td>https://pbs.twimg.com/media/DBpm-5UXcAUeCru.jpg</td>\n",
       "      <td>1</td>\n",
       "      <td>2</td>\n",
       "      <td>pug</td>\n",
       "      <td>0.066736</td>\n",
       "      <td>True</td>\n",
       "    </tr>\n",
       "    <tr>\n",
       "      <th>652</th>\n",
       "      <td>837820167694528512</td>\n",
       "      <td>2017-03-04 00:21:08</td>\n",
       "      <td>Twitter for iPhone</td>\n",
       "      <td>Here's a pupper before and after being asked \"...</td>\n",
       "      <td>https://twitter.com/dog_rates/status/837820167...</td>\n",
       "      <td>12.0</td>\n",
       "      <td>10</td>\n",
       "      <td>NaN</td>\n",
       "      <td>pupper</td>\n",
       "      <td>8952</td>\n",
       "      <td>37277</td>\n",
       "      <td>3200891</td>\n",
       "      <td>https://pbs.twimg.com/media/C6CI_jbVAAA3-a1.jpg</td>\n",
       "      <td>1</td>\n",
       "      <td>2</td>\n",
       "      <td>Labrador_retriever</td>\n",
       "      <td>0.068718</td>\n",
       "      <td>True</td>\n",
       "    </tr>\n",
       "    <tr>\n",
       "      <th>64</th>\n",
       "      <td>887517139158093824</td>\n",
       "      <td>2017-07-19 03:39:09</td>\n",
       "      <td>Twitter for iPhone</td>\n",
       "      <td>I've yet to rate a Venezuelan Hover Wiener. Th...</td>\n",
       "      <td>https://twitter.com/dog_rates/status/887517139...</td>\n",
       "      <td>14.0</td>\n",
       "      <td>10</td>\n",
       "      <td>such</td>\n",
       "      <td>NaN</td>\n",
       "      <td>12082</td>\n",
       "      <td>46959</td>\n",
       "      <td>3200890</td>\n",
       "      <td>https://pbs.twimg.com/ext_tw_video_thumb/88751...</td>\n",
       "      <td>1</td>\n",
       "      <td>2</td>\n",
       "      <td>tow_truck</td>\n",
       "      <td>0.029175</td>\n",
       "      <td>False</td>\n",
       "    </tr>\n",
       "  </tbody>\n",
       "</table>\n",
       "</div>"
      ],
      "text/plain": [
       "                tweet_id            timestamp              source  \\\n",
       "3630  689557536375177216  2016-01-19 21:18:22  Twitter for iPhone   \n",
       "433   856543823941562368  2017-04-24 16:22:16  Twitter for iPhone   \n",
       "259   872122724285648897  2017-06-06 16:07:15  Twitter for iPhone   \n",
       "652   837820167694528512  2017-03-04 00:21:08  Twitter for iPhone   \n",
       "64    887517139158093824  2017-07-19 03:39:09  Twitter for iPhone   \n",
       "\n",
       "                                                   text  \\\n",
       "3630  Downright majestic af 12/10 https://t.co/WFh2F...   \n",
       "433   This is Callie. She'll be your navigator today...   \n",
       "259   This is Kody. He's a baller. Wishes he was a l...   \n",
       "652   Here's a pupper before and after being asked \"...   \n",
       "64    I've yet to rate a Venezuelan Hover Wiener. Th...   \n",
       "\n",
       "                                          expanded_urls  rating_numerator  \\\n",
       "3630  https://twitter.com/dog_rates/status/689557536...              12.0   \n",
       "433   https://twitter.com/dog_rates/status/856543823...              12.0   \n",
       "259   https://twitter.com/dog_rates/status/872122724...              12.0   \n",
       "652   https://twitter.com/dog_rates/status/837820167...              12.0   \n",
       "64    https://twitter.com/dog_rates/status/887517139...              14.0   \n",
       "\n",
       "      rating_denominator    name dog_breed  retweet_count  favourites_count  \\\n",
       "3630                  10     NaN       NaN            519              2257   \n",
       "433                   10  Callie       NaN           3131             17135   \n",
       "259                   10    Kody       NaN           8549             35324   \n",
       "652                   10     NaN    pupper           8952             37277   \n",
       "64                    10    such       NaN          12082             46959   \n",
       "\n",
       "      user_count                                            jpg_url  img_num  \\\n",
       "3630     3200951    https://pbs.twimg.com/media/CZHM60BWIAA4AY4.jpg        1   \n",
       "433      3200891    https://pbs.twimg.com/media/C-MOEDCXYAEjp7o.jpg        1   \n",
       "259      3200891    https://pbs.twimg.com/media/DBpm-5UXcAUeCru.jpg        1   \n",
       "652      3200891    https://pbs.twimg.com/media/C6CI_jbVAAA3-a1.jpg        1   \n",
       "64       3200890  https://pbs.twimg.com/ext_tw_video_thumb/88751...        1   \n",
       "\n",
       "      prediction_level          prediction  confidence  breed  \n",
       "3630                 1          Eskimo_dog    0.169482   True  \n",
       "433                  2         Siamese_cat    0.191218  False  \n",
       "259                  2                 pug    0.066736   True  \n",
       "652                  2  Labrador_retriever    0.068718   True  \n",
       "64                   2           tow_truck    0.029175  False  "
      ]
     },
     "execution_count": 47,
     "metadata": {},
     "output_type": "execute_result"
    }
   ],
   "source": [
    "twitter_archive_master.sample(5)"
   ]
  },
  {
   "cell_type": "markdown",
   "metadata": {},
   "source": [
    "Getting to know more about the breed of humans best friends, i will first get a glimpse on the frequency distribution of dog breeds:\n",
    "\n"
   ]
  },
  {
   "cell_type": "code",
   "execution_count": 47,
   "metadata": {},
   "outputs": [],
   "source": [
    "avg_retweet_count_dog_breed = twitter_archive_master.groupby('dog_breed').retweet_count.mean()\n",
    "\n",
    "# the index with stand for the x axis in plotting \n",
    "avg_retweet_count_dog_breed.index\n",
    "\n",
    "avg_favourites_count_dog_breed = twitter_archive_master.groupby('dog_breed').favourites_count.mean()\n",
    "\n"
   ]
  },
  {
   "cell_type": "code",
   "execution_count": 109,
   "metadata": {},
   "outputs": [
    {
     "data": {
      "text/plain": [
       "dog_breed\n",
       "doggo             7125.698413\n",
       "doggo-floofer     3433.000000\n",
       "doggo-pupper      4397.250000\n",
       "doggo-puppo      19196.000000\n",
       "floofer           4968.714286\n",
       "pupper            2382.502488\n",
       "puppo             6473.954545\n",
       "Name: retweet_count, dtype: float64"
      ]
     },
     "execution_count": 109,
     "metadata": {},
     "output_type": "execute_result"
    }
   ],
   "source": [
    "avg_retweet_count_dog_breed"
   ]
  },
  {
   "cell_type": "code",
   "execution_count": 110,
   "metadata": {},
   "outputs": [
    {
     "data": {
      "text/plain": [
       "dog_breed\n",
       "doggo            19356.380952\n",
       "doggo-floofer    17169.000000\n",
       "doggo-pupper     13219.875000\n",
       "doggo-puppo      47844.000000\n",
       "floofer          13206.000000\n",
       "pupper            7250.527363\n",
       "puppo            21582.090909\n",
       "Name: favourites_count, dtype: float64"
      ]
     },
     "execution_count": 110,
     "metadata": {},
     "output_type": "execute_result"
    }
   ],
   "source": [
    "avg_favourites_count_dog_breed"
   ]
  },
  {
   "cell_type": "code",
   "execution_count": 114,
   "metadata": {},
   "outputs": [
    {
     "data": {
      "image/png": "[encoded data removed]",
      "text/plain": [
       "<matplotlib.figure.Figure at 0x7faf2e4d62e8>"
      ]
     },
     "metadata": {
      "needs_background": "light"
     },
     "output_type": "display_data"
    }
   ],
   "source": [
    "breed_avg_retweet = twitter_archive_master.groupby(['dog_breed']).retweet_count.mean().sort_values(ascending=False)[12::-1]\n",
    "# plotting\n",
    "breed_avg_retweet.plot(kind='barh');"
   ]
  },
  {
   "cell_type": "code",
   "execution_count": 153,
   "metadata": {},
   "outputs": [
    {
     "data": {
      "image/png": "[encoded data removed]",
      "text/plain": [
       "<matplotlib.figure.Figure at 0x7faf2b35ddd8>"
      ]
     },
     "metadata": {
      "needs_background": "light"
     },
     "output_type": "display_data"
    }
   ],
   "source": [
    "breed_avg_favourites = twitter_archive_master.groupby(['dog_breed']).favourites_count.mean().sort_values(ascending=False)[12::-1]\n",
    "# plotting\n",
    "breed_avg_favourites.plot(kind='barh');"
   ]
  },
  {
   "cell_type": "code",
   "execution_count": 162,
   "metadata": {},
   "outputs": [
    {
     "data": {
      "image/png": "[encoded data removed]",
      "text/plain": [
       "<matplotlib.figure.Figure at 0x7faf2b04e4e0>"
      ]
     },
     "metadata": {
      "needs_background": "light"
     },
     "output_type": "display_data"
    }
   ],
   "source": [
    "twitter_archive_master.plot(x='retweet_count', y='rating_numerator', kind='scatter')\n",
    "plt.xlabel('Retweet Counts')\n",
    "plt.ylabel('Ratings')\n",
    "plt.title('Retweet Counts by Ratings Scatter Plot')\n",
    "\n",
    "fig = plt.gcf()\n",
    "fig.savefig('output3.png',bbox_inches='tight');"
   ]
  },
  {
   "cell_type": "code",
   "execution_count": 170,
   "metadata": {
    "scrolled": true
   },
   "outputs": [
    {
     "data": {
      "image/png": "[encoded data removed]",
      "text/plain": [
       "<matplotlib.figure.Figure at 0x7faf2e0b3a58>"
      ]
     },
     "metadata": {
      "needs_background": "light"
     },
     "output_type": "display_data"
    }
   ],
   "source": [
    "v = sns.regplot(x=twitter_archive_master.retweet_count, y=twitter_archive_master.favourites_count)\n",
    "plt.title(\"Favorites and Retweets\")\n",
    "plt.xlabel('Retweets')\n",
    "plt.ylabel('Favorites')\n",
    "plt.show()\n",
    "fig = v.get_figure()\n"
   ]
  },
  {
   "cell_type": "code",
   "execution_count": 58,
   "metadata": {},
   "outputs": [
    {
     "data": {
      "text/plain": [
       "Twitter for iPhone    1932\n",
       "Twitter Web Client      28\n",
       "TweetDeck               11\n",
       "Name: source, dtype: int64"
      ]
     },
     "execution_count": 58,
     "metadata": {},
     "output_type": "execute_result"
    }
   ],
   "source": [
    "twitter_archive_master[\"source\"].value_counts()"
   ]
  },
  {
   "cell_type": "markdown",
   "metadata": {},
   "source": [
    "There are strong positive relationship between retweet and favourites"
   ]
  },
  {
   "cell_type": "code",
   "execution_count": 57,
   "metadata": {},
   "outputs": [
    {
     "data": {
      "image/png": "[encoded data removed]",
      "text/plain": [
       "<matplotlib.figure.Figure at 0x7f9d15486748>"
      ]
     },
     "metadata": {},
     "output_type": "display_data"
    }
   ],
   "source": [
    "twitter_archive_master['source'].value_counts().iloc[0:3].plot(kind='pie',figsize=(15, 15),fontsize=25,autopct='%1.1f%%');\n"
   ]
  },
  {
   "cell_type": "markdown",
   "metadata": {},
   "source": [
    "Labrador_retriever and golden_retriever are the most common dogs in this dataset."
   ]
  },
  {
   "cell_type": "code",
   "execution_count": 141,
   "metadata": {},
   "outputs": [
    {
     "data": {
      "text/plain": [
       "Labrador_retriever                265\n",
       "golden_retriever                  264\n",
       "Chihuahua                         178\n",
       "Pembroke                          138\n",
       "Cardigan                          112\n",
       "Pomeranian                        103\n",
       "toy_poodle                        102\n",
       "pug                                92\n",
       "chow                               91\n",
       "French_bulldog                     90\n",
       "cocker_spaniel                     88\n",
       "Chesapeake_Bay_retriever           87\n",
       "Eskimo_dog                         81\n",
       "beagle                             73\n",
       "Siberian_husky                     72\n",
       "kuvasz                             70\n",
       "malamute                           66\n",
       "Staffordshire_bullterrier          66\n",
       "Samoyed                            64\n",
       "Pekinese                           62\n",
       "kelpie                             59\n",
       "American_Staffordshire_terrier     56\n",
       "miniature_pinscher                 55\n",
       "Great_Pyrenees                     53\n",
       "miniature_poodle                   52\n",
       "collie                             49\n",
       "German_shepherd                    48\n",
       "Italian_greyhound                  48\n",
       "Shetland_sheepdog                  46\n",
       "Boston_bull                        45\n",
       "                                 ... \n",
       "poncho                              1\n",
       "pajama                              1\n",
       "croquet_ball                        1\n",
       "wok                                 1\n",
       "tarantula                           1\n",
       "breastplate                         1\n",
       "projectile                          1\n",
       "spotlight                           1\n",
       "dam                                 1\n",
       "oxcart                              1\n",
       "whiptail                            1\n",
       "lorikeet                            1\n",
       "hair_spray                          1\n",
       "indri                               1\n",
       "chickadee                           1\n",
       "orangutan                           1\n",
       "lacewing                            1\n",
       "mushroom                            1\n",
       "bulletproof_vest                    1\n",
       "cradle                              1\n",
       "mountain_tent                       1\n",
       "timber_wolf                         1\n",
       "waffle_iron                         1\n",
       "candle                              1\n",
       "tiger_shark                         1\n",
       "jersey                              1\n",
       "bobsled                             1\n",
       "chain_mail                          1\n",
       "chime                               1\n",
       "washer                              1\n",
       "Name: prediction, Length: 626, dtype: int64"
      ]
     },
     "execution_count": 141,
     "metadata": {},
     "output_type": "execute_result"
    }
   ],
   "source": [
    "image_df_clean.prediction.value_counts()"
   ]
  },
  {
   "cell_type": "code",
   "execution_count": null,
   "metadata": {},
   "outputs": [],
   "source": []
  }
 ],
 "metadata": {
  "kernelspec": {
   "display_name": "Python 3",
   "language": "python",
   "name": "python3"
  },
  "language_info": {
   "codemirror_mode": {
    "name": "ipython",
    "version": 3
   },
   "file_extension": ".py",
   "mimetype": "text/x-python",
   "name": "python",
   "nbconvert_exporter": "python",
   "pygments_lexer": "ipython3",
   "version": "3.6.3"
  }
 },
 "nbformat": 4,
 "nbformat_minor": 2
}
